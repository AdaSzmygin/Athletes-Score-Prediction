{
 "cells": [
  {
   "cell_type": "code",
   "execution_count": 2,
   "id": "2a6bf5a9",
   "metadata": {},
   "outputs": [],
   "source": [
    "import torch\n",
    "import pandas as pd\n",
    "from torch import nn\n",
    "from sklearn.model_selection import train_test_split\n",
    "import torch.optim as optim\n",
    "from torch.utils.data import DataLoader\n",
    "from matplotlib import pyplot as plt\n",
    "import torch.nn.init as init\n",
    "import optuna\n",
    "from optuna.trial import TrialState"
   ]
  },
  {
   "cell_type": "code",
   "execution_count": 3,
   "id": "f7a9ffa3",
   "metadata": {},
   "outputs": [
    {
     "data": {
      "text/plain": [
       "True"
      ]
     },
     "execution_count": 3,
     "metadata": {},
     "output_type": "execute_result"
    }
   ],
   "source": [
    "#checking whether GPU memory is usable\n",
    "torch.cuda.is_available()"
   ]
  },
  {
   "cell_type": "code",
   "execution_count": 4,
   "id": "1389e4d2",
   "metadata": {},
   "outputs": [],
   "source": [
    "path = r'C:\\studia\\magisterka\\pliki'"
   ]
  },
  {
   "cell_type": "code",
   "execution_count": 5,
   "id": "f3f06636",
   "metadata": {},
   "outputs": [],
   "source": [
    "#file import\n",
    "df_learn2 = pd.read_csv(path + '\\df_normalization_to12.csv')\n",
    "df_learn2 = df_learn2.drop(columns = 'Unnamed: 0')"
   ]
  },
  {
   "cell_type": "code",
   "execution_count": 7,
   "id": "895bf557",
   "metadata": {},
   "outputs": [],
   "source": [
    "#changing the order of columns\n",
    "df_learn2 = df_learn2.reindex(columns=['index', 'age', 'wind', 'year', 'month', 'start_career', 'start_season', 'pb','sb', 'height', 'country_id', 'country_comp_id', 'if_country','city_comp_id', 'Temperature', 'Pressure', 'result'])\n",
    "\n",
    "#deleting records with empty values\n",
    "col_nan = []\n",
    "for col in df_learn2.columns:\n",
    "    if len(df_learn2[df_learn2[col].isna()]) > 0:\n",
    "        col_nan.append(col)\n",
    "for c in col_nan:\n",
    "    df_learn2 = df_learn2[df_learn2[c].isna() == False]\n",
    "df_learn2 = df_learn2.reset_index().drop(columns = 'level_0')"
   ]
  },
  {
   "cell_type": "code",
   "execution_count": 10,
   "id": "7c5c092d",
   "metadata": {},
   "outputs": [],
   "source": [
    "df_learn5 = df_learn2[['pb', 'sb', 'start_career', 'start_season', 'year', 'result']]# 'start_career', 'start_season', 'year', 'result']]"
   ]
  },
  {
   "cell_type": "code",
   "execution_count": 8,
   "id": "6a9c59f5",
   "metadata": {},
   "outputs": [],
   "source": [
    "#GPU memory setting\n",
    "device = torch.device('cuda' if torch.cuda.is_available() else 'cpu')"
   ]
  },
  {
   "cell_type": "code",
   "execution_count": 10,
   "id": "de9bfacb",
   "metadata": {},
   "outputs": [],
   "source": [
    "def concat_tensor(X, Y):\n",
    "    z = []\n",
    "    for i in range(len(X)):\n",
    "        z.append([X[i], Y[i]])\n",
    "    return z\n",
    "\n",
    "#division of the set into training and testing data\n",
    "def set_division(df, batchsize):\n",
    "    col_num = df.shape[1]\n",
    "    df_X = df.values[:,0:col_num-1]\n",
    "    df_Y = df.values[:,col_num-1]\n",
    "    \n",
    "    x_train, x_test, y_train, y_test = train_test_split(df_X, df_Y, test_size= 0.3, random_state = 0)\n",
    "    x_train, x_valid, y_train, y_valid = train_test_split(x_train, y_train, test_size= 0.3, random_state = 0)\n",
    "    \n",
    "    x_train = torch.tensor(x_train, dtype=torch.float).to(device)\n",
    "    x_test=torch.tensor(x_test, dtype=torch.float).to(device)\n",
    "    x_valid=torch.tensor(x_valid, dtype=torch.float).to(device)\n",
    "\n",
    "    y_train = torch.tensor(y_train, dtype=torch.float).to(device)\n",
    "    y_test=torch.tensor(y_test, dtype=torch.float).to(device)\n",
    "    y_valid=torch.tensor(y_valid, dtype=torch.float).to(device)\n",
    "    \n",
    "    #creating batches\n",
    "    train_batches = DataLoader(concat_tensor(x_train, y_train), batch_size=batchsize, shuffle=True)\n",
    "    test_batches = DataLoader(concat_tensor(x_test, y_test), batch_size=batchsize, shuffle=True)\n",
    "    valid_batches = DataLoader(concat_tensor(x_valid, y_valid), batch_size=batchsize, shuffle=True)\n",
    "\n",
    "    return train_batches, test_batches, valid_batches"
   ]
  },
  {
   "cell_type": "code",
   "execution_count": 11,
   "id": "1f3530d2",
   "metadata": {},
   "outputs": [],
   "source": [
    "#initialization of model weights\n",
    "def init_weights(m):\n",
    "    if isinstance(m, nn.Linear):\n",
    "        init.xavier_uniform_(m.weight)\n",
    "        if m.bias is not None:\n",
    "            init.constant_(m.bias, 0)"
   ]
  },
  {
   "cell_type": "markdown",
   "id": "1efad250",
   "metadata": {},
   "source": [
    "## Creating models with a different number of hidden layers"
   ]
  },
  {
   "cell_type": "code",
   "execution_count": 12,
   "id": "81461078",
   "metadata": {},
   "outputs": [
    {
     "data": {
      "text/plain": [
       "Sequential(\n",
       "  (0): Linear(in_features=16, out_features=20, bias=True)\n",
       "  (1): Sigmoid()\n",
       "  (2): Linear(in_features=20, out_features=1, bias=True)\n",
       ")"
      ]
     },
     "execution_count": 12,
     "metadata": {},
     "output_type": "execute_result"
    }
   ],
   "source": [
    "model = nn.Sequential(\n",
    "    nn.Linear(df_learn2.shape[1]-1, 20),\n",
    "    nn.Sigmoid(),\n",
    "    nn.Linear(20, 1)\n",
    ")\n",
    "model.to(device)\n",
    "model.apply(init_weights)   #use of initialization"
   ]
  },
  {
   "cell_type": "code",
   "execution_count": 13,
   "id": "8ca5004c",
   "metadata": {},
   "outputs": [
    {
     "data": {
      "text/plain": [
       "Sequential(\n",
       "  (0): Linear(in_features=16, out_features=20, bias=True)\n",
       "  (1): ReLU()\n",
       "  (2): Linear(in_features=20, out_features=100, bias=True)\n",
       "  (3): Sigmoid()\n",
       "  (4): Linear(in_features=100, out_features=1, bias=True)\n",
       ")"
      ]
     },
     "execution_count": 13,
     "metadata": {},
     "output_type": "execute_result"
    }
   ],
   "source": [
    "model = nn.Sequential(\n",
    "    nn.Linear(df_learn2.shape[1]-1, 20),\n",
    "    nn.ReLU(),\n",
    "    nn.Linear(20, 100),\n",
    "    nn.Sigmoid(),\n",
    "    nn.Linear(100, 1)\n",
    ")\n",
    "model.to(device)\n",
    "model.apply(init_weights)"
   ]
  },
  {
   "cell_type": "code",
   "execution_count": 14,
   "id": "3c254044",
   "metadata": {},
   "outputs": [
    {
     "data": {
      "text/plain": [
       "Sequential(\n",
       "  (0): Linear(in_features=16, out_features=20, bias=True)\n",
       "  (1): ReLU()\n",
       "  (2): Linear(in_features=20, out_features=100, bias=True)\n",
       "  (3): ReLU()\n",
       "  (4): Linear(in_features=100, out_features=200, bias=True)\n",
       "  (5): Sigmoid()\n",
       "  (6): Linear(in_features=200, out_features=1, bias=True)\n",
       ")"
      ]
     },
     "execution_count": 14,
     "metadata": {},
     "output_type": "execute_result"
    }
   ],
   "source": [
    "model = nn.Sequential(\n",
    "    nn.Linear(df_learn2.shape[1]-1, 20),\n",
    "    nn.ReLU(),\n",
    "    nn.Linear(20, 100),\n",
    "    nn.ReLU(),\n",
    "    nn.Linear(100, 200),\n",
    "    nn.Sigmoid(),\n",
    "    nn.Linear(200, 1)\n",
    ")\n",
    "model.to(device)\n",
    "model.apply(init_weights)"
   ]
  },
  {
   "cell_type": "code",
   "execution_count": 15,
   "id": "1e0562a6",
   "metadata": {},
   "outputs": [
    {
     "data": {
      "text/plain": [
       "Sequential(\n",
       "  (0): Linear(in_features=16, out_features=20, bias=True)\n",
       "  (1): ReLU()\n",
       "  (2): Linear(in_features=20, out_features=100, bias=True)\n",
       "  (3): ReLU()\n",
       "  (4): Linear(in_features=100, out_features=200, bias=True)\n",
       "  (5): ReLU()\n",
       "  (6): Linear(in_features=200, out_features=400, bias=True)\n",
       "  (7): Sigmoid()\n",
       "  (8): Linear(in_features=400, out_features=1, bias=True)\n",
       ")"
      ]
     },
     "execution_count": 15,
     "metadata": {},
     "output_type": "execute_result"
    }
   ],
   "source": [
    "model = nn.Sequential(\n",
    "    nn.Linear(df_learn2.shape[1]-1, 20),\n",
    "    nn.ReLU(),\n",
    "    nn.Linear(20, 100),\n",
    "    nn.ReLU(),\n",
    "    nn.Linear(100, 200),\n",
    "    nn.ReLU(),\n",
    "    nn.Linear(200, 400),\n",
    "    nn.Sigmoid(),\n",
    "    nn.Linear(400, 1)\n",
    ")\n",
    "model.to(device)\n",
    "model.apply(init_weights)"
   ]
  },
  {
   "cell_type": "code",
   "execution_count": 16,
   "id": "bb3158ce",
   "metadata": {},
   "outputs": [
    {
     "data": {
      "text/plain": [
       "Sequential(\n",
       "  (0): Linear(in_features=16, out_features=20, bias=True)\n",
       "  (1): ReLU()\n",
       "  (2): Linear(in_features=20, out_features=100, bias=True)\n",
       "  (3): ReLU()\n",
       "  (4): Linear(in_features=100, out_features=200, bias=True)\n",
       "  (5): ReLU()\n",
       "  (6): Linear(in_features=200, out_features=400, bias=True)\n",
       "  (7): ReLU()\n",
       "  (8): Linear(in_features=400, out_features=600, bias=True)\n",
       "  (9): Sigmoid()\n",
       "  (10): Linear(in_features=600, out_features=1, bias=True)\n",
       ")"
      ]
     },
     "execution_count": 16,
     "metadata": {},
     "output_type": "execute_result"
    }
   ],
   "source": [
    "model = nn.Sequential(\n",
    "    nn.Linear(df_learn2.shape[1]-1, 20),\n",
    "    nn.ReLU(),\n",
    "    nn.Linear(20, 100),\n",
    "    nn.ReLU(),\n",
    "    nn.Linear(100, 200),\n",
    "    nn.ReLU(),\n",
    "    nn.Linear(200, 400),\n",
    "    nn.ReLU(),\n",
    "    nn.Linear(400, 600),\n",
    "    nn.Sigmoid(),\n",
    "    nn.Linear(600, 1)\n",
    ")\n",
    "model.to(device)\n",
    "model.apply(init_weights)"
   ]
  },
  {
   "cell_type": "code",
   "execution_count": 17,
   "id": "ca673fa9",
   "metadata": {},
   "outputs": [
    {
     "data": {
      "text/plain": [
       "Sequential(\n",
       "  (0): Linear(in_features=16, out_features=20, bias=True)\n",
       "  (1): ReLU()\n",
       "  (2): Linear(in_features=20, out_features=100, bias=True)\n",
       "  (3): ReLU()\n",
       "  (4): Linear(in_features=100, out_features=200, bias=True)\n",
       "  (5): ReLU()\n",
       "  (6): Linear(in_features=200, out_features=400, bias=True)\n",
       "  (7): ReLU()\n",
       "  (8): Linear(in_features=400, out_features=600, bias=True)\n",
       "  (9): ReLU()\n",
       "  (10): Linear(in_features=600, out_features=800, bias=True)\n",
       "  (11): Sigmoid()\n",
       "  (12): Linear(in_features=800, out_features=1, bias=True)\n",
       ")"
      ]
     },
     "execution_count": 17,
     "metadata": {},
     "output_type": "execute_result"
    }
   ],
   "source": [
    "model = nn.Sequential(\n",
    "    nn.Linear(df_learn2.shape[1]-1, 20),\n",
    "    nn.ReLU(),\n",
    "    nn.Linear(20, 100),\n",
    "    nn.ReLU(),\n",
    "    nn.Linear(100, 200),\n",
    "    nn.ReLU(),\n",
    "    nn.Linear(200, 400),\n",
    "    nn.ReLU(),\n",
    "    nn.Linear(400, 600),\n",
    "    nn.ReLU(),\n",
    "    nn.Linear(600, 800),\n",
    "    nn.Sigmoid(),\n",
    "    nn.Linear(800, 1)\n",
    ")\n",
    "model.to(device)\n",
    "model.apply(init_weights)"
   ]
  },
  {
   "cell_type": "code",
   "execution_count": 18,
   "id": "6e7fec6d",
   "metadata": {},
   "outputs": [],
   "source": [
    "#finding appropriate hyperparameters using the optuna library\n",
    "def objective(trial, model = model, df = df_learn2):\n",
    "    criterion = nn.MSELoss()\n",
    "    optimizer_name = trial.suggest_categorical(\"optimizer\", [\"Adam\", \"RMSprop\", \"SGD\", 'Adadelta', 'Adagrad'])\n",
    "    lr = trial.suggest_float(\"lr\", 1e-7, 1, log=True)\n",
    "    epochs = trial.suggest_int('epochs', 5, 50)\n",
    "    batchsize = trial.suggest_int('batchsize', 2548, 20384, step = 2548)\n",
    "    optimizer = getattr(optim, optimizer_name)(model.parameters(), lr=lr)\n",
    "\n",
    "    train_loader, test_loader, valid_loader = set_division(df, batchsize)\n",
    "    for epoch in range(epochs):\n",
    "        model.train()\n",
    "        for batch_idx, (data, target) in enumerate(train_loader):\n",
    "            data, target = data.to(device), target.to(device)\n",
    "\n",
    "            optimizer.zero_grad()\n",
    "            output = model(data)\n",
    "            loss = criterion(output, target)\n",
    "            loss.backward()\n",
    "            optimizer.step()\n",
    "            \n",
    "        model.eval()\n",
    "        correct = 0\n",
    "        with torch.no_grad():\n",
    "            for batch_idx, (data, target) in enumerate(valid_loader):\n",
    "                data, target = data.to(device), target.to(device)\n",
    "                output = model(data)\n",
    "                correct += abs(output - target).sum().item()   \n",
    "        accuracy = correct/len(valid_loader.dataset)\n",
    "        \n",
    "        trial.report(accuracy, epoch)\n",
    "    return accuracy"
   ]
  },
  {
   "cell_type": "code",
   "execution_count": 20,
   "id": "e8d35198",
   "metadata": {},
   "outputs": [],
   "source": [
    "study = optuna.create_study(direction='minimize')\n",
    "study.optimize(objective, n_trials= 1)"
   ]
  },
  {
   "cell_type": "code",
   "execution_count": 23,
   "id": "39482f3c",
   "metadata": {
    "scrolled": true
   },
   "outputs": [
    {
     "name": "stdout",
     "output_type": "stream",
     "text": [
      "Adam 0.00103 5 2548\n"
     ]
    }
   ],
   "source": [
    "opt, lr, num_epochs, batchsize = study.best_params.values()\n",
    "print(opt, lr, num_epochs, batchsize)"
   ]
  },
  {
   "cell_type": "code",
   "execution_count": 24,
   "id": "7675f67d",
   "metadata": {
    "scrolled": true
   },
   "outputs": [
    {
     "name": "stdout",
     "output_type": "stream",
     "text": [
      "0 0.18884144723415375\n",
      "1 0.10957171767950058\n",
      "2 0.10060397535562515\n",
      "3 0.1026972159743309\n",
      "4 0.10301677137613297\n"
     ]
    }
   ],
   "source": [
    "train_loader, test_loader, valid_loader = set_division(df_learn2, batchsize)\n",
    "\n",
    "criterion = nn.MSELoss()\n",
    "train_batches, test_batches, valid_batches = set_division(df_learn2, batchsize)\n",
    "optimizer = getattr(optim, opt)(model.parameters(), lr = lr)  #getattr - object with an attribute\n",
    "num_epochs = num_epochs\n",
    "\n",
    "out = []\n",
    "los = []\n",
    "out_test = []\n",
    "los_test = []\n",
    "for epoch in range(num_epochs):    \n",
    "    model.train()\n",
    "    for inputs, targets in train_batches:\n",
    "        inputs, targets = inputs.to('cuda'), targets.to('cuda')  \n",
    "        \n",
    "        optimizer.zero_grad()\n",
    "        outputs = model(inputs)\n",
    "        loss = criterion(outputs, targets)\n",
    "        loss.backward()\n",
    "        optimizer.step()\n",
    "        \n",
    "        if epoch == num_epochs - 1:\n",
    "            out.append(outputs)\n",
    "    print(epoch, loss.item())\n",
    "    los.append(loss.item())\n",
    "    \n",
    "    model.eval()\n",
    "    total_test_loss = 0\n",
    "    for inp, tar in test_batches:\n",
    "        inp, tar = inp.to('cuda'), tar.to('cuda')\n",
    "        outpu = model(inp)\n",
    "        test_loss = criterion(outpu, tar)\n",
    "        total_test_loss += test_loss.item()\n",
    "        \n",
    "        if epoch == num_epochs - 1:\n",
    "            out_test.append(outpu)\n",
    "    los_test.append(test_loss.item())"
   ]
  },
  {
   "cell_type": "code",
   "execution_count": 25,
   "id": "2ba632d2",
   "metadata": {},
   "outputs": [
    {
     "data": {
      "image/png": "[encoded data removed]",
      "text/plain": [
       "<Figure size 640x480 with 1 Axes>"
      ]
     },
     "metadata": {},
     "output_type": "display_data"
    }
   ],
   "source": [
    "plt.plot(los)#shows plot of the presented system\n",
    "plt.title('Loss function')\n",
    "plt.ylabel('Loss')\n",
    "plt.xlabel('Epochs')\n",
    "plt.show()"
   ]
  },
  {
   "cell_type": "code",
   "execution_count": 32,
   "id": "44d44e08",
   "metadata": {
    "scrolled": true
   },
   "outputs": [
    {
     "name": "stdout",
     "output_type": "stream",
     "text": [
      "error =  0.2548\n"
     ]
    }
   ],
   "source": [
    "#error on test set\n",
    "err = 0\n",
    "for i, (x, y) in enumerate(test_batches):\n",
    "    for j, z in enumerate(y):\n",
    "        err += abs(out_test[i][j].item() - z.item())\n",
    "error = err/(sum(tensor.numel() for tensor in out_test))\n",
    "print('error = ', round(error, 4))"
   ]
  },
  {
   "cell_type": "code",
   "execution_count": 33,
   "id": "5c7e3f1f",
   "metadata": {},
   "outputs": [
    {
     "name": "stdout",
     "output_type": "stream",
     "text": [
      "error =  0.1924\n"
     ]
    }
   ],
   "source": [
    "#error on train set\n",
    "err2 = 0\n",
    "for i, (x, y) in enumerate(train_batches):\n",
    "    for j, z in enumerate(y):\n",
    "        err2 += abs(out[i][j].item() - z.item())\n",
    "error2 = err2/(sum(tensor.numel() for tensor in out))\n",
    "print('error = ', round(error2, 4))"
   ]
  }
 ],
 "metadata": {
  "kernelspec": {
   "display_name": "gpu2",
   "language": "python",
   "name": "gpu2"
  },
  "language_info": {
   "codemirror_mode": {
    "name": "ipython",
    "version": 3
   },
   "file_extension": ".py",
   "mimetype": "text/x-python",
   "name": "python",
   "nbconvert_exporter": "python",
   "pygments_lexer": "ipython3",
   "version": "3.10.12"
  }
 },
 "nbformat": 4,
 "nbformat_minor": 5
}
