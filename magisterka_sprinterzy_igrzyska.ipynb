{
 "cells": [
  {
   "cell_type": "code",
   "execution_count": 72,
   "metadata": {},
   "outputs": [
    {
     "name": "stdout",
     "output_type": "stream",
     "text": [
      "Requirement already satisfied: beautifulsoup4 in c:\\users\\marci\\appdata\\local\\packages\\pythonsoftwarefoundation.python.3.10_qbz5n2kfra8p0\\localcache\\local-packages\\python310\\site-packages (4.11.1)\n",
      "Requirement already satisfied: soupsieve>1.2 in c:\\users\\marci\\appdata\\local\\packages\\pythonsoftwarefoundation.python.3.10_qbz5n2kfra8p0\\localcache\\local-packages\\python310\\site-packages (from beautifulsoup4) (2.3.2.post1)\n",
      "Requirement already satisfied: pandas in c:\\users\\marci\\appdata\\local\\packages\\pythonsoftwarefoundation.python.3.10_qbz5n2kfra8p0\\localcache\\local-packages\\python310\\site-packages (1.5.1)\n",
      "Requirement already satisfied: pytz>=2020.1 in c:\\users\\marci\\appdata\\local\\packages\\pythonsoftwarefoundation.python.3.10_qbz5n2kfra8p0\\localcache\\local-packages\\python310\\site-packages (from pandas) (2022.1)\n",
      "Requirement already satisfied: python-dateutil>=2.8.1 in c:\\users\\marci\\appdata\\local\\packages\\pythonsoftwarefoundation.python.3.10_qbz5n2kfra8p0\\localcache\\local-packages\\python310\\site-packages (from pandas) (2.8.2)\n",
      "Requirement already satisfied: numpy>=1.21.0 in c:\\users\\marci\\appdata\\local\\packages\\pythonsoftwarefoundation.python.3.10_qbz5n2kfra8p0\\localcache\\local-packages\\python310\\site-packages (from pandas) (1.22.4)\n",
      "Requirement already satisfied: six>=1.5 in c:\\users\\marci\\appdata\\local\\packages\\pythonsoftwarefoundation.python.3.10_qbz5n2kfra8p0\\localcache\\local-packages\\python310\\site-packages (from python-dateutil>=2.8.1->pandas) (1.16.0)\n",
      "Requirement already satisfied: opencv-python in c:\\users\\marci\\appdata\\local\\packages\\pythonsoftwarefoundation.python.3.10_qbz5n2kfra8p0\\localcache\\local-packages\\python310\\site-packages (4.6.0.66)\n",
      "Requirement already satisfied: numpy>=1.19.3 in c:\\users\\marci\\appdata\\local\\packages\\pythonsoftwarefoundation.python.3.10_qbz5n2kfra8p0\\localcache\\local-packages\\python310\\site-packages (from opencv-python) (1.22.4)\n",
      "Requirement already satisfied: matplotlib in c:\\users\\marci\\appdata\\local\\packages\\pythonsoftwarefoundation.python.3.10_qbz5n2kfra8p0\\localcache\\local-packages\\python310\\site-packages (3.6.2)\n",
      "Requirement already satisfied: pyparsing>=2.2.1 in c:\\users\\marci\\appdata\\local\\packages\\pythonsoftwarefoundation.python.3.10_qbz5n2kfra8p0\\localcache\\local-packages\\python310\\site-packages (from matplotlib) (3.0.9)\n",
      "Requirement already satisfied: contourpy>=1.0.1 in c:\\users\\marci\\appdata\\local\\packages\\pythonsoftwarefoundation.python.3.10_qbz5n2kfra8p0\\localcache\\local-packages\\python310\\site-packages (from matplotlib) (1.0.6)\n",
      "Requirement already satisfied: pillow>=6.2.0 in c:\\users\\marci\\appdata\\local\\packages\\pythonsoftwarefoundation.python.3.10_qbz5n2kfra8p0\\localcache\\local-packages\\python310\\site-packages (from matplotlib) (9.3.0)\n",
      "Requirement already satisfied: packaging>=20.0 in c:\\users\\marci\\appdata\\local\\packages\\pythonsoftwarefoundation.python.3.10_qbz5n2kfra8p0\\localcache\\local-packages\\python310\\site-packages (from matplotlib) (21.3)\n",
      "Requirement already satisfied: python-dateutil>=2.7 in c:\\users\\marci\\appdata\\local\\packages\\pythonsoftwarefoundation.python.3.10_qbz5n2kfra8p0\\localcache\\local-packages\\python310\\site-packages (from matplotlib) (2.8.2)\n",
      "Requirement already satisfied: numpy>=1.19 in c:\\users\\marci\\appdata\\local\\packages\\pythonsoftwarefoundation.python.3.10_qbz5n2kfra8p0\\localcache\\local-packages\\python310\\site-packages (from matplotlib) (1.22.4)\n",
      "Requirement already satisfied: fonttools>=4.22.0 in c:\\users\\marci\\appdata\\local\\packages\\pythonsoftwarefoundation.python.3.10_qbz5n2kfra8p0\\localcache\\local-packages\\python310\\site-packages (from matplotlib) (4.38.0)\n",
      "Requirement already satisfied: kiwisolver>=1.0.1 in c:\\users\\marci\\appdata\\local\\packages\\pythonsoftwarefoundation.python.3.10_qbz5n2kfra8p0\\localcache\\local-packages\\python310\\site-packages (from matplotlib) (1.4.4)\n",
      "Requirement already satisfied: cycler>=0.10 in c:\\users\\marci\\appdata\\local\\packages\\pythonsoftwarefoundation.python.3.10_qbz5n2kfra8p0\\localcache\\local-packages\\python310\\site-packages (from matplotlib) (0.11.0)\n",
      "Requirement already satisfied: six>=1.5 in c:\\users\\marci\\appdata\\local\\packages\\pythonsoftwarefoundation.python.3.10_qbz5n2kfra8p0\\localcache\\local-packages\\python310\\site-packages (from python-dateutil>=2.7->matplotlib) (1.16.0)\n",
      "Requirement already satisfied: requests in c:\\users\\marci\\appdata\\local\\packages\\pythonsoftwarefoundation.python.3.10_qbz5n2kfra8p0\\localcache\\local-packages\\python310\\site-packages (2.27.1)\n",
      "Requirement already satisfied: certifi>=2017.4.17 in c:\\users\\marci\\appdata\\local\\packages\\pythonsoftwarefoundation.python.3.10_qbz5n2kfra8p0\\localcache\\local-packages\\python310\\site-packages (from requests) (2022.5.18.1)\n",
      "Requirement already satisfied: urllib3<1.27,>=1.21.1 in c:\\users\\marci\\appdata\\local\\packages\\pythonsoftwarefoundation.python.3.10_qbz5n2kfra8p0\\localcache\\local-packages\\python310\\site-packages (from requests) (1.26.9)\n",
      "Requirement already satisfied: charset-normalizer~=2.0.0 in c:\\users\\marci\\appdata\\local\\packages\\pythonsoftwarefoundation.python.3.10_qbz5n2kfra8p0\\localcache\\local-packages\\python310\\site-packages (from requests) (2.0.12)\n",
      "Requirement already satisfied: idna<4,>=2.5 in c:\\users\\marci\\appdata\\local\\packages\\pythonsoftwarefoundation.python.3.10_qbz5n2kfra8p0\\localcache\\local-packages\\python310\\site-packages (from requests) (3.3)\n",
      "Requirement already satisfied: selenium in c:\\users\\marci\\appdata\\local\\packages\\pythonsoftwarefoundation.python.3.10_qbz5n2kfra8p0\\localcache\\local-packages\\python310\\site-packages (4.6.1)\n",
      "Requirement already satisfied: trio-websocket~=0.9 in c:\\users\\marci\\appdata\\local\\packages\\pythonsoftwarefoundation.python.3.10_qbz5n2kfra8p0\\localcache\\local-packages\\python310\\site-packages (from selenium) (0.9.2)\n",
      "Requirement already satisfied: urllib3[socks]~=1.26 in c:\\users\\marci\\appdata\\local\\packages\\pythonsoftwarefoundation.python.3.10_qbz5n2kfra8p0\\localcache\\local-packages\\python310\\site-packages (from selenium) (1.26.9)\n",
      "Requirement already satisfied: trio~=0.17 in c:\\users\\marci\\appdata\\local\\packages\\pythonsoftwarefoundation.python.3.10_qbz5n2kfra8p0\\localcache\\local-packages\\python310\\site-packages (from selenium) (0.22.0)\n",
      "Requirement already satisfied: certifi>=2021.10.8 in c:\\users\\marci\\appdata\\local\\packages\\pythonsoftwarefoundation.python.3.10_qbz5n2kfra8p0\\localcache\\local-packages\\python310\\site-packages (from selenium) (2022.5.18.1)\n",
      "Requirement already satisfied: exceptiongroup>=1.0.0rc9 in c:\\users\\marci\\appdata\\local\\packages\\pythonsoftwarefoundation.python.3.10_qbz5n2kfra8p0\\localcache\\local-packages\\python310\\site-packages (from trio~=0.17->selenium) (1.0.4)\n",
      "Requirement already satisfied: idna in c:\\users\\marci\\appdata\\local\\packages\\pythonsoftwarefoundation.python.3.10_qbz5n2kfra8p0\\localcache\\local-packages\\python310\\site-packages (from trio~=0.17->selenium) (3.3)\n",
      "Requirement already satisfied: async-generator>=1.9 in c:\\users\\marci\\appdata\\local\\packages\\pythonsoftwarefoundation.python.3.10_qbz5n2kfra8p0\\localcache\\local-packages\\python310\\site-packages (from trio~=0.17->selenium) (1.10)\n",
      "Requirement already satisfied: cffi>=1.14 in c:\\users\\marci\\appdata\\local\\packages\\pythonsoftwarefoundation.python.3.10_qbz5n2kfra8p0\\localcache\\local-packages\\python310\\site-packages (from trio~=0.17->selenium) (1.15.0)\n",
      "Requirement already satisfied: attrs>=19.2.0 in c:\\users\\marci\\appdata\\local\\packages\\pythonsoftwarefoundation.python.3.10_qbz5n2kfra8p0\\localcache\\local-packages\\python310\\site-packages (from trio~=0.17->selenium) (21.4.0)\n",
      "Requirement already satisfied: sortedcontainers in c:\\users\\marci\\appdata\\local\\packages\\pythonsoftwarefoundation.python.3.10_qbz5n2kfra8p0\\localcache\\local-packages\\python310\\site-packages (from trio~=0.17->selenium) (2.4.0)\n",
      "Requirement already satisfied: outcome in c:\\users\\marci\\appdata\\local\\packages\\pythonsoftwarefoundation.python.3.10_qbz5n2kfra8p0\\localcache\\local-packages\\python310\\site-packages (from trio~=0.17->selenium) (1.2.0)\n",
      "Requirement already satisfied: sniffio in c:\\users\\marci\\appdata\\local\\packages\\pythonsoftwarefoundation.python.3.10_qbz5n2kfra8p0\\localcache\\local-packages\\python310\\site-packages (from trio~=0.17->selenium) (1.2.0)\n",
      "Requirement already satisfied: wsproto>=0.14 in c:\\users\\marci\\appdata\\local\\packages\\pythonsoftwarefoundation.python.3.10_qbz5n2kfra8p0\\localcache\\local-packages\\python310\\site-packages (from trio-websocket~=0.9->selenium) (1.2.0)\n",
      "Requirement already satisfied: PySocks!=1.5.7,<2.0,>=1.5.6 in c:\\users\\marci\\appdata\\local\\packages\\pythonsoftwarefoundation.python.3.10_qbz5n2kfra8p0\\localcache\\local-packages\\python310\\site-packages (from urllib3[socks]~=1.26->selenium) (1.7.1)\n",
      "Requirement already satisfied: pycparser in c:\\users\\marci\\appdata\\local\\packages\\pythonsoftwarefoundation.python.3.10_qbz5n2kfra8p0\\localcache\\local-packages\\python310\\site-packages (from cffi>=1.14->trio~=0.17->selenium) (2.21)\n",
      "Requirement already satisfied: h11<1,>=0.9.0 in c:\\users\\marci\\appdata\\local\\packages\\pythonsoftwarefoundation.python.3.10_qbz5n2kfra8p0\\localcache\\local-packages\\python310\\site-packages (from wsproto>=0.14->trio-websocket~=0.9->selenium) (0.14.0)\n"
     ]
    }
   ],
   "source": [
    "! pip install beautifulsoup4\n",
    "! pip install pandas\n",
    "! pip install opencv-python\n",
    "! pip install matplotlib\n",
    "! pip install requests\n",
    "! pip install selenium"
   ]
  },
  {
   "cell_type": "code",
   "execution_count": 2,
   "metadata": {},
   "outputs": [],
   "source": [
    "#import bibliotek\n",
    "import pandas as pd\n",
    "import requests\n",
    "from bs4 import BeautifulSoup\n",
    "from datetime import datetime\n",
    "import numpy as np\n",
    "import cv2\n",
    "import math\n",
    "import matplotlib\n",
    "\n",
    "from os import path"
   ]
  },
  {
   "cell_type": "code",
   "execution_count": null,
   "metadata": {},
   "outputs": [],
   "source": []
  },
  {
   "cell_type": "code",
   "execution_count": null,
   "metadata": {},
   "outputs": [],
   "source": [
    "#url do strony ze wszystkimi igzyskami\n",
    "url = 'http://www.olympedia.org/editions'"
   ]
  },
  {
   "cell_type": "code",
   "execution_count": null,
   "metadata": {},
   "outputs": [],
   "source": [
    "req = requests.get(url).content\n",
    "soup = BeautifulSoup(req)"
   ]
  },
  {
   "cell_type": "code",
   "execution_count": null,
   "metadata": {},
   "outputs": [],
   "source": [
    "#id igrzysk po 1995 \n",
    "edycja = []\n",
    "for i in range(1, 33):   #33 - bo tyle bylo igrzysk letnich\n",
    "    igrzyska = str(soup.find('table', class_ = \"table table-striped\").find_all('tr')[i].find_all('td')[1].find_all('a')[0]).split('editions/')[1]\n",
    "    rok = int(igrzyska.split('>')[1][:4])\n",
    "    #if rok > 1995:\n",
    "    edycja.append([rok, igrzyska.split('\"')[0]])"
   ]
  },
  {
   "cell_type": "code",
   "execution_count": null,
   "metadata": {},
   "outputs": [],
   "source": [
    "edycja"
   ]
  },
  {
   "cell_type": "code",
   "execution_count": null,
   "metadata": {},
   "outputs": [],
   "source": [
    "#url igrzysk po 1995, proba dla wszystkich\n",
    "url_athletics = []\n",
    "for i in range(len(edycja)):\n",
    "    url_athletics.append(url + '/' + edycja[i][1] + '/sports/ATH')"
   ]
  },
  {
   "cell_type": "code",
   "execution_count": null,
   "metadata": {},
   "outputs": [],
   "source": []
  },
  {
   "cell_type": "code",
   "execution_count": null,
   "metadata": {},
   "outputs": [],
   "source": [
    "soup_athletics = []\n",
    "for i in range(len(url_athletics)):\n",
    "    req_athletics = requests.get(url_athletics[i]).content\n",
    "    soup_athletics.append(BeautifulSoup(req_athletics))"
   ]
  },
  {
   "cell_type": "code",
   "execution_count": null,
   "metadata": {},
   "outputs": [],
   "source": [
    "\n",
    "soup_athletics.csv"
   ]
  },
  {
   "cell_type": "code",
   "execution_count": null,
   "metadata": {},
   "outputs": [],
   "source": [
    "#kody (id) dla konkurencji sprinterskich mezczyzn na igrzyskach\n",
    "kod = []\n",
    "#na io 2020 '4 × 100 metres Relay, Men' byl jakis inny x, dlatego jest 2x\n",
    "konkurencje = ['100 metres, Men', '200 metres, Men', '4 x 100 metres Relay, Men', '110 metres Hurdles, Men', '4 × 100 metres Relay, Men'] #'100 metres, Women', '200 metres, Women', '4 x 100 metres Relay, Women']\n",
    "konkurencje=['100 metres, Men']\n",
    "for i in range(len(soup_athletics)):\n",
    "    klas = soup_athletics[i].find('table', class_ = \"table table-striped\") #dla io np w 1916 i 1940 mamy puste, bo ich nie bylo\n",
    "    if klas is not None:          #sprawdzamy poprzez is not None, aby opuscic puste io\n",
    "        ile = soup_athletics[i].find('table', class_ = \"table table-striped\").find_all('tr')\n",
    "        for j in range(1, len(ile)-1):\n",
    "            dane = str(ile[j].find_all('a'))\n",
    "            kon = dane.split('>')[1].split('<')[0]\n",
    "            for k in konkurencje:\n",
    "                if kon == k:\n",
    "                    kod.append([edycja[i][0], kon, dane.split('results/')[1].split('\"')[0]])"
   ]
  },
  {
   "cell_type": "code",
   "execution_count": null,
   "metadata": {},
   "outputs": [],
   "source": [
    "kod"
   ]
  },
  {
   "cell_type": "code",
   "execution_count": null,
   "metadata": {},
   "outputs": [],
   "source": [
    "#url dla konkurencji sprinterskich\n",
    "url_konkurencja = []\n",
    "for i in range(len(kod)):\n",
    "    url_konkurencja.append('http://www.olympedia.org/results/'+kod[i][2])"
   ]
  },
  {
   "cell_type": "code",
   "execution_count": null,
   "metadata": {},
   "outputs": [],
   "source": [
    "soup_konkurencja = []\n",
    "for i in range(len(url_konkurencja)):\n",
    "    req_konkurencja = requests.get(url_konkurencja[i]).content\n",
    "    soup_konkurencja.append(BeautifulSoup(req_konkurencja))"
   ]
  },
  {
   "cell_type": "code",
   "execution_count": null,
   "metadata": {},
   "outputs": [],
   "source": [
    "#wszyscy niepowtarzalni zawodnicy bioracy udzial w konkurencjach sprinterskich 1995 - 2021\n",
    "zawodnik = []\n",
    "\n",
    "for j in range(len(soup_konkurencja)):\n",
    "    p = soup_konkurencja[j].find('table', class_ = \"table table-striped\").find_all('a')\n",
    "    for i in range(len(p)):\n",
    "        typ = str(p[i]).split(\"/\")[1]\n",
    "        if typ == 'athletes':\n",
    "            r = str(p[i]).split('/')[2]\n",
    "            nr = r.split('\"')[0]\n",
    "            #zaw = r.split('>')[1][:-1]\n",
    "            if nr not in zawodnik:\n",
    "                zawodnik.append(nr)"
   ]
  },
  {
   "cell_type": "code",
   "execution_count": null,
   "metadata": {},
   "outputs": [],
   "source": [
    "len(zawodnik)   #wszyscy od 1896r"
   ]
  },
  {
   "cell_type": "code",
   "execution_count": null,
   "metadata": {},
   "outputs": [],
   "source": [
    "url_zawodnik = []\n",
    "for i in range(len(zawodnik)):\n",
    "    url_zawodnik.append('http://www.olympedia.org/athletes/'+zawodnik[i])"
   ]
  },
  {
   "cell_type": "code",
   "execution_count": null,
   "metadata": {},
   "outputs": [],
   "source": [
    "soup_zawodnik = []\n",
    "for i in range(len(url_zawodnik)):\n",
    "    req_zawodnik = requests.get(url_zawodnik[i]).content\n",
    "    soup_zawodnik.append(BeautifulSoup(req_zawodnik))"
   ]
  },
  {
   "cell_type": "code",
   "execution_count": null,
   "metadata": {},
   "outputs": [],
   "source": [
    "wielk = {}\n",
    "dane_zaw = []\n",
    "fn = 0\n",
    "un = 0\n",
    "k = 0\n",
    "wz = 0\n",
    "wg = 0\n",
    "p = 0\n",
    "d = 0\n",
    "for j in range(len(soup_zawodnik)):\n",
    "    dane_zaw.append(soup_zawodnik[j].find('table', class_ = \"biodata\").find_all('tr'))\n",
    "    for i in range(len(dane_zaw[j])):\n",
    "        \n",
    "        if dane_zaw[j][i].find_all('th')[0].text == 'Full name':\n",
    "            full_name = dane_zaw[j][i].find_all('td')[0].text.replace('•',' ')\n",
    "            fn = fn+1\n",
    "            \n",
    "        if dane_zaw[j][i].find_all('th')[0].text == 'Used name':\n",
    "            used_name = dane_zaw[j][i].find_all('td')[0].text.replace('•',' ')\n",
    "            un = un+1\n",
    "            \n",
    "        if dane_zaw[j][i].find_all('th')[0].text == 'NOC':\n",
    "            kraj = dane_zaw[j][i].find_all('td')[0].find_all('a')[0].text\n",
    "            kr_skrot = str(dane_zaw[j][i].find_all('td')[0].find_all('a')[0]).split('/')[2].split('\"')[0]\n",
    "            k = k+1\n",
    "        \n",
    "        if dane_zaw[j][i].find_all('th')[0].text == 'Measurements':\n",
    "            if len(dane_zaw[j][i].find_all('td')[0].text.split('/ ')) == 2:\n",
    "                wzrost = int(dane_zaw[j][i].find_all('td')[0].text.split('/')[0][:3])\n",
    "                \n",
    "                waga = dane_zaw[j][i].find_all('td')[0].text.split('/ ')[1][:3]\n",
    "                if waga[2].isnumeric():\n",
    "                    waga = int(waga)\n",
    "                else:\n",
    "                    waga = int(waga[:2])\n",
    "                wz = wz + 1\n",
    "                wg = wg + 1\n",
    "            elif len(dane_zaw[j][i].find_all('td')[0].text.split('/ ')) == 1:\n",
    "                if dane_zaw[j][i].find_all('td')[0].text.split('/ ')[0][-2:] == 'cm':\n",
    "                    wzrost = dane_zaw[j][i].find_all('td')[0].text.split('/ ')[0][:3]\n",
    "                    wz = wz + 1\n",
    "                elif dane_zaw[j][i].find_all('td')[0].text.split('/ ')[0][-2:] == 'kg':\n",
    "                    waga = dane_zaw[j][i].find_all('td')[0].text.split('/ ')[0][:3]\n",
    "                    wg = wg + 1\n",
    "            \n",
    "        if dane_zaw[j][i].find_all('th')[0].text == 'Sex':\n",
    "            plec = dane_zaw[j][i].find_all('td')[0].text\n",
    "            p = p+1\n",
    "            \n",
    "        if dane_zaw[j][i].find_all('th')[0].text == 'Born':\n",
    "            data_urodz = dane_zaw[j][i].find_all('td')[0].text.split(' in')[0]\n",
    "            d = d+1\n",
    "            \n",
    "    if len(soup_zawodnik[j].find('div', class_ = 'container').find_all('h1')[0].find_all('a')) == 1:\n",
    "        zdj = str(soup_zawodnik[j].find('div', class_ = 'container').find_all('h1')[0].find_all('a')[0]).split('\"')[1]\n",
    "    elif len(soup_zawodnik[j].find('div', class_ = 'container').find_all('h1')[0].find_all('a')) == 0:\n",
    "        zdj = 'None'\n",
    "    \n",
    "    if fn == j:\n",
    "        full_name = 'None'\n",
    "        fn = fn+1\n",
    "    \n",
    "    if un == j:\n",
    "        user_name = 'None'\n",
    "        un = un+1\n",
    "    \n",
    "    if k == j:\n",
    "        kraj = 'None'\n",
    "        k = k+1\n",
    "    \n",
    "    if wz == j:\n",
    "        wzrost = 'None'\n",
    "        wz = wz+1\n",
    "    \n",
    "    if wg == j:\n",
    "        waga = 'None'\n",
    "        wg = wg+1\n",
    "        \n",
    "    if p == j:\n",
    "        plec = 'None'\n",
    "        p = p+1\n",
    "    if d == j:\n",
    "        data = 'None'\n",
    "        d = d+1\n",
    "        \n",
    "    wielk[j] = {'full_name': full_name, 'used_name':used_name, 'kraj': kraj, 'kraj_skrot': kr_skrot, 'wzrost':wzrost, 'waga':waga, 'plec': plec, 'data_urodz': data_urodz, 'zdj': zdj}"
   ]
  },
  {
   "cell_type": "code",
   "execution_count": null,
   "metadata": {},
   "outputs": [],
   "source": [
    "len(wielk)"
   ]
  },
  {
   "cell_type": "code",
   "execution_count": null,
   "metadata": {},
   "outputs": [],
   "source": [
    "df = pd.DataFrame(data = wielk).transpose()\n",
    "df"
   ]
  },
  {
   "cell_type": "code",
   "execution_count": null,
   "metadata": {},
   "outputs": [],
   "source": [
    "#slownik na miesiace\n",
    "miesiace = {'January': 1, 'February': 2, 'March': 3, 'April': 4, 'May': 5, 'June': 6, 'July': 7, 'August': 8, 'September':9, 'October': 10, 'November': 11, 'December': 12}"
   ]
  },
  {
   "cell_type": "markdown",
   "metadata": {},
   "source": []
  },
  {
   "cell_type": "code",
   "execution_count": null,
   "metadata": {},
   "outputs": [],
   "source": [
    "dzien = []\n",
    "mies = []\n",
    "rok = []\n",
    "for i in range(len(df)):\n",
    "    if df['data_urodz'][i].count(' ') == 2:                        #gdy poprawna data\n",
    "        dzien.append(df['data_urodz'][i].split(' ')[0])\n",
    "        mies.append(miesiace[df['data_urodz'][i].split(' ')[1]])\n",
    "        rok.append(df['data_urodz'][i].split(' ')[2])\n",
    "        \n",
    "    elif df['data_urodz'][i].count(' ') == 0 and len(df['data_urodz'][i]) == 4:   #tylko rok\n",
    "        dzien.append('1')\n",
    "        mies.append('1')\n",
    "        rok.append(df['data_urodz'][i])\n",
    "        #print(i)\n",
    "    elif df['data_urodz'][i].count(' ') == 1 and df['data_urodz'][i][0] == '(' and df['data_urodz'][i][-1] == ')':  #(rok, miejsce)\n",
    "        dzien.append('1')\n",
    "        mies.append('1')\n",
    "        rok.append(df['data_urodz'][i][-5:-1])\n",
    "    elif df['data_urodz'][i].count(' ') == 1 and df['data_urodz'][i][:-5] in miesiace.keys() and df['data_urodz'][i][-4:].isnumeric():\n",
    "        dzien.append('1')                                             #miesiac rok\n",
    "        mies.append(miesiace[df['data_urodz'][i][:-5]])\n",
    "        rok.append(df['data_urodz'][i][-4:])\n",
    "    else:\n",
    "        print(i, df['data_urodz'][i])\n",
    "        dzien.append('1')\n",
    "        mies.append('1')\n",
    "        rok.append(None)   #na razie wpisanie jakis losowych wartosci - poprawic to"
   ]
  },
  {
   "cell_type": "code",
   "execution_count": null,
   "metadata": {},
   "outputs": [],
   "source": [
    "data = []\n",
    "for i in range(len(rok)):\n",
    "    if rok[i] == None:\n",
    "        data.append('None')\n",
    "    else:\n",
    "        d = dzien[i] + '-' + str(mies[i]) + '-' + rok[i]\n",
    "        dd = datetime.strptime(d, '%d-%m-%Y').date()\n",
    "        data.append(dd)\n",
    "data"
   ]
  },
  {
   "cell_type": "code",
   "execution_count": null,
   "metadata": {},
   "outputs": [],
   "source": [
    "df['data_urodz'] = data\n",
    "df\n"
   ]
  },
  {
   "cell_type": "markdown",
   "metadata": {},
   "source": [
    "#OBRAZY"
   ]
  },
  {
   "cell_type": "code",
   "execution_count": null,
   "metadata": {},
   "outputs": [],
   "source": [
    "import numpy as np\n",
    "import pathlib\n",
    "import cv2\n",
    "import os.path\n",
    "\n",
    "\n",
    "prototxt = r'model/colorization_deploy_v2.prototxt'\n",
    "model = r'model/colorization_release_v2.caffemodel'\n",
    "points = r'model/pts_in_hull.npy'\n",
    "points = os.path.join(os.path.dirname(os.path.abspath(\"__file__\")), points)\n",
    "prototxt = os.path.join(os.path.dirname(os.path.abspath(\"__file__\")), prototxt)\n",
    "model = os.path.join(os.path.dirname(os.path.abspath(\"__file__\")), model)\n",
    "\n",
    "\n",
    "# r'https://www.dropbox.com/s/dx0qvhhp5hbcx7z/colorization_release_v2.caffemodel?dl=1')\n",
    "\n",
    "net = cv2.dnn.readNetFromCaffe(prototxt, model)     # load model from disk\n",
    "pts = np.load(points)\n",
    "\n",
    "# add the cluster centers as 1x1 convolutions to the model\n",
    "class8 = net.getLayerId(\"class8_ab\")\n",
    "conv8 = net.getLayerId(\"conv8_313_rh\")\n",
    "pts = pts.transpose().reshape(2, 313, 1, 1)\n",
    "net.getLayer(class8).blobs = [pts.astype(\"float32\")]\n",
    "net.getLayer(conv8).blobs = [np.full([1, 313], 2.606, dtype=\"float32\")]\n",
    "\n",
    "def colorize_image(image=None, cv2_frame=None):\n",
    "    \n",
    "    # load the input image from disk, scale the pixel intensities to the range [0, 1], and then convert the image from the BGR to Lab color space\n",
    "    #image = cv2.imread(image_filename) if image_filename else cv2_frame\n",
    "    scaled = image.astype(\"float32\") / 255.0\n",
    "    lab = cv2.cvtColor(scaled, cv2.COLOR_BGR2LAB)\n",
    "\n",
    "    # resize the Lab image to 224x224 (the dimensions the colorization network accepts), split channels, extract the 'L' channel, and then perform mean centering\n",
    "    resized = cv2.resize(lab, (224, 224))\n",
    "    L = cv2.split(resized)[0]\n",
    "    L -= 50\n",
    "\n",
    "    # pass the L channel through the network which will *predict* the 'a' and 'b' channel values\n",
    "    'print(\"[INFO] colorizing image...\")'\n",
    "    net.setInput(cv2.dnn.blobFromImage(L))\n",
    "    ab = net.forward()[0, :, :, :].transpose((1, 2, 0))\n",
    "\n",
    "    # resize the predicted 'ab' volume to the same dimensions as our input image\n",
    "    ab = cv2.resize(ab, (image.shape[1], image.shape[0]))\n",
    "\n",
    "    # grab the 'L' channel from the *original* input image (not the resized one) and concatenate the original 'L' channel with the predicted 'ab' channels\n",
    "    L = cv2.split(lab)[0]\n",
    "    colorized = np.concatenate((L[:, :, np.newaxis], ab), axis=2)\n",
    "\n",
    "    # convert the output image from the Lab color space to RGB, then clip any values that fall outside the range [0, 1]\n",
    "    colorized = cv2.cvtColor(colorized, cv2.COLOR_LAB2BGR)\n",
    "    colorized = np.clip(colorized, 0, 1)\n",
    "\n",
    "    # the current colorized image is represented as a floating point data type in the range [0, 1] -- let's convert to an unsigned 8-bit integer representation in the range [0, 255]\n",
    "    colorized = (255 * colorized).astype(\"uint8\")\n",
    "    return image, colorized\n",
    "\n",
    "# Run\n",
    "#prev_filename = colorized = cap = None\n",
    "        \n",
    "        # A file was chosen from the listbox\n",
    "\n",
    "\n",
    "#image = cv2.imread(filename)\n",
    "            \n",
    "#image, colorized = colorize_image(filename)\n",
    "\n",
    "#data=cv2.imencode('.png', colorized)[1].tobytes()\n",
    "\n",
    "           # Colorize photo\n",
    "\n",
    "#cv2.imwrite(filename, colorized)\n",
    "#print('Saved')\n",
    "\n"
   ]
  },
  {
   "cell_type": "code",
   "execution_count": null,
   "metadata": {},
   "outputs": [],
   "source": []
  },
  {
   "cell_type": "code",
   "execution_count": null,
   "metadata": {},
   "outputs": [],
   "source": []
  },
  {
   "cell_type": "code",
   "execution_count": null,
   "metadata": {},
   "outputs": [],
   "source": [
    "def kolor_skory(df):\n",
    "    kol_odl_list = []\n",
    "    kolor_hex = []\n",
    "    kolor_rgb = []\n",
    "    for s in range(len(df)):\n",
    "        if df['zdj'][s] == 'None':\n",
    "            kol_odl_list.append('brak zdj')\n",
    "            kolor_hex.append('brak zdj')\n",
    "            kolor_rgb.append('brak zdj')\n",
    "        else:\n",
    "            img_data = requests.get(df['zdj'][s]).content\n",
    "            \n",
    "            image = cv2.imdecode(np.frombuffer(img_data, np.uint8), -1)\n",
    "            image, colorized = colorize_image(image)\n",
    "            \n",
    "            #cv2.imshow('Original', image)\n",
    "            #cv2.imshow('Colorized', colorized)\n",
    "            #cv2.waitKey(0)\n",
    "            image=colorized\n",
    "            face_classiffier = cv2.CascadeClassifier(os.path.join(os.path.dirname(os.path.abspath(\"__file__\")), r'face.xml'))\n",
    "            face_box = face_classiffier.detectMultiScale(image)\n",
    "\n",
    "            if len(face_box) == 0:   #warunek, gdy nie wykruje zadnej twarzy                \n",
    "                kol_odl_list.append('nie wykryto twarzy')\n",
    "                kolor_hex.append('nie wykryto twarzy')\n",
    "                kolor_rgb.append('nie wykryto twarzy')\n",
    "            else:\n",
    "\n",
    "                face_area = 0\n",
    "                best = 0\n",
    "\n",
    "                # czasami wykrywa sie kilka twarzy, dlatego biore z najwiekszym polem\n",
    "                # nie jest to idealnie rozwiazanie, ale dziala, mozna to jakos udoskonalic\n",
    "                for j in range(len(face_box)):\n",
    "                    w, h = face_box[j][2:]\n",
    "                    area = w * h\n",
    "                    if area > face_area:\n",
    "                        face_area = area\n",
    "                        best = j  # wybiera j-ta twarz dla danego zawodnika\n",
    "\n",
    "                # rysujemy prostokat z twarza na zdjeciu\n",
    "                x, y, w, h = face_box[best]\n",
    "                cv2.rectangle(image, (x, y), (x + w, y + h), (0, 255, 255), 5)\n",
    "\n",
    "                # mozna to odkomentowac zeby zobaczyc jak wyglada prostokat zaznaczonej twarzy na zdjeciu\n",
    "                #cv2.imshow('face detection', image)\n",
    "                #cv2.waitKey(0)\n",
    "\n",
    "                # wycinam obraz do samej twarzy\n",
    "                twarz = image[y:y + h, x:x + w]\n",
    "\n",
    "                # na twarzy szukam nosa, dzieki temu pozbywam sie potencjalnych nosow spoza twarzy\n",
    "                # znowu jakis gotowy xml z internetu\n",
    "               \n",
    "                nose_classiffier = cv2.CascadeClassifier( os.path.join(os.path.dirname(os.path.abspath(\"__file__\")), r'haarcascade_mcs_nose.xml'))\n",
    "                nose_box = nose_classiffier.detectMultiScale(twarz)\n",
    "\n",
    "                # okreslam srodek obrazu (twarzy), kolejne zalozenie, ze szukany nos ma srodek najblizej srodka twarzy\n",
    "                srodek = (twarz.shape[1] / 2, twarz.shape[0] / 2)\n",
    "                odl = twarz.shape[0]  # maks odl od srodkow moze wynosic wymiar obrazu twarzy\n",
    "                best2 = 0\n",
    "                \n",
    "                \n",
    "                if len(nose_box) == 0:   #warunek, gdy nie wykruje zadnej twarzy\n",
    "                    kol_odl_list.append('nie wykryto nosa')\n",
    "                    kolor_hex.append('nie wykryto nosa')\n",
    "                    kolor_rgb.append('nie wykryto nosa')\n",
    "                else:\n",
    "                    for k in range(len(nose_box)):\n",
    "                        x2, y2, w2, h2 = nose_box[k]\n",
    "                        sr = (x2 + 0.5 * w2, y2 + 0.5 * h2)\n",
    "                        od = math.sqrt(math.pow(srodek[0] - sr[0], 2) + math.pow(srodek[1] - sr[1],\n",
    "                                                                                 2))  # obliczam odl od srodka twarzy do k-tych srodkow nosa\n",
    "                        if od < odl:\n",
    "                            odl = od\n",
    "                            best2 = k  # wybieram najlepszy nos\n",
    "\n",
    "                    x3, y3, w3, h3 = nose_box[best2]\n",
    "\n",
    "                    # rysunek nosa na twarzy\n",
    "                    cv2.rectangle(twarz, (x3, y3), (x3 + w3, y3 + h3), (0, 0, 255), 5)\n",
    "                    #cv2.imshow('nose', twarz)\n",
    "                    #cv2.waitKey(0)\n",
    "                    \n",
    "                    print(s)\n",
    "                    \n",
    "                    if len(twarz.shape) < 3:   #ogarnac dlaczego tak sie dzieje???\n",
    "                        kol_odl_list.append('zly wymiar')\n",
    "                        kolor_hex.append('zly wymiar')\n",
    "                        kolor_rgb.append('zly wymiar')\n",
    "                    \n",
    "                    else:\n",
    "                        # kolor nosa\n",
    "                        r = 0\n",
    "                        g = 0\n",
    "                        b = 0\n",
    "                        for l in range(h3):  # przejscie po calej dlugosci\n",
    "                            for m in range(w3):  # po szerokosci\n",
    "                                r = r + twarz[int(y3 + l)][int(x3 + m)][2]  # suma wartosci koloru z danych pikseli\n",
    "                                g = g + twarz[int(y3 + l)][int(x3 + m)][1]\n",
    "                                b = b + twarz[int(y3 + l)][int(x3 + m)][0]\n",
    "\n",
    "                        wym = h3 * w3  # wymiar (pole)\n",
    "\n",
    "                        # odl koloru na kwadracie rgb, ta kol_odl ma okreslic jak daleko jest od bialego\n",
    "                        # teoretycznie im jasniejszy zawodnik to kol_odl mniejsza\n",
    "                        # w miare dziala, ale nie idealnie - moze to byc spowodowane cieniami, dziurkami w nosie itp\n",
    "                        kol_odl = round(math.sqrt(math.pow(255 - b / wym, 2) + math.pow(255 - g / wym, 2) + math.pow(255 - r / wym, 2)), 2)\n",
    "                        #print(matplotlib.colors.to_hex([r/wym/255, g/wym/255, b/wym/255]))\n",
    "                        #print(int(r / wym), int(g / wym), int(b / wym), kol_odl)  # srednia = suma/ pole\n",
    "                        kol_odl_list.append(kol_odl)\n",
    "                        kolor_hex.append(matplotlib.colors.to_hex([r/wym/255, g/wym/255, b/wym/255]))\n",
    "                        kolor_rgb.append([int(r / wym), int(g / wym), int(b / wym)])\n",
    "    return kol_odl_list, kolor_hex, kolor_rgb"
   ]
  },
  {
   "cell_type": "code",
   "execution_count": null,
   "metadata": {},
   "outputs": [],
   "source": [
    "kol_odl2, kolor_hex2, kolor_rgb2 = kolor_skory(df)"
   ]
  },
  {
   "cell_type": "code",
   "execution_count": null,
   "metadata": {},
   "outputs": [],
   "source": [
    "df['kolor_odl'] = kol_odl2"
   ]
  },
  {
   "cell_type": "code",
   "execution_count": null,
   "metadata": {},
   "outputs": [],
   "source": [
    "df['kolor_hex'] = kolor_hex2\n",
    "df['kolor_rgb'] = kolor_rgb2"
   ]
  },
  {
   "cell_type": "code",
   "execution_count": null,
   "metadata": {},
   "outputs": [],
   "source": [
    "df"
   ]
  },
  {
   "cell_type": "code",
   "execution_count": null,
   "metadata": {},
   "outputs": [],
   "source": [
    "df.info()"
   ]
  },
  {
   "cell_type": "code",
   "execution_count": null,
   "metadata": {},
   "outputs": [],
   "source": [
    "df.to_csv(os.path.join(os.path.dirname(os.path.abspath(\"__file__\")), r'df_io.csv'))\n"
   ]
  },
  {
   "cell_type": "code",
   "execution_count": null,
   "metadata": {},
   "outputs": [],
   "source": [
    "for i in range(len(df)):\n",
    "    if type(df['kolor_rgb'][i]) == list:\n",
    "        print(i, df['zdj'][i], df['kolor_rgb'][i], df['kolor_hex'][i], df['kolor_odl'][i])"
   ]
  },
  {
   "cell_type": "markdown",
   "metadata": {},
   "source": [
    "Pogoda"
   ]
  },
  {
   "cell_type": "code",
   "execution_count": 3,
   "metadata": {},
   "outputs": [
    {
     "name": "stderr",
     "output_type": "stream",
     "text": [
      "/var/folders/8t/xzx8f92x3478v4ynptf9y8ym0000gn/T/ipykernel_8107/118922146.py:1: DtypeWarning: Columns (6) have mixed types. Specify dtype option on import or set low_memory=False.\n",
      "  results=pd.read_csv('df_wyniki_all.csv')\n"
     ]
    }
   ],
   "source": [
    "\n",
    "results=pd.read_csv('df_wyniki_all.csv')\n",
    "\n",
    "countrycodes=pd.read_csv('countrycodes.csv')\n",
    "\n",
    "states=pd.read_csv('states.csv')"
   ]
  },
  {
   "cell_type": "code",
   "execution_count": null,
   "metadata": {},
   "outputs": [],
   "source": [
    "results"
   ]
  },
  {
   "cell_type": "code",
   "execution_count": null,
   "metadata": {},
   "outputs": [],
   "source": [
    "states"
   ]
  },
  {
   "cell_type": "code",
   "execution_count": 4,
   "metadata": {},
   "outputs": [],
   "source": [
    "\n",
    "placedate=results.data+'#'+results.miasto+'#'+results.kraj_skrot\n",
    "placedate = list(dict.fromkeys(placedate))\n",
    "\n"
   ]
  },
  {
   "cell_type": "code",
   "execution_count": null,
   "metadata": {},
   "outputs": [],
   "source": [
    "len(placedate)"
   ]
  },
  {
   "cell_type": "code",
   "execution_count": null,
   "metadata": {},
   "outputs": [],
   "source": [
    "\n",
    "countrycodes[150:155]"
   ]
  },
  {
   "cell_type": "code",
   "execution_count": null,
   "metadata": {},
   "outputs": [],
   "source": [
    "countrycodes[150:155]"
   ]
  },
  {
   "cell_type": "code",
   "execution_count": 16,
   "metadata": {},
   "outputs": [],
   "source": [
    "from bs4 import BeautifulSoup as BS\n",
    "from selenium import webdriver\n",
    "from functools import reduce\n",
    "import pandas as pd\n",
    "import time\n",
    "from statistics import median as med\n",
    "from IPython.display import clear_output\n",
    "from collections import Counter\n",
    "import gc\n"
   ]
  },
  {
   "cell_type": "code",
   "execution_count": 11,
   "metadata": {},
   "outputs": [],
   "source": [
    "#Strona ładuje zawartość z opóźnieniem, poniższa metoda włącza sterownik chrome i oczekuje na zawartość\n",
    "def render_page(url):\n",
    "    driver = webdriver.Chrome('path_to/chromedriver')\n",
    "    driver.get(url)\n",
    "    time.sleep(5)\n",
    "    r = driver.page_source\n",
    "    driver.quit()\n",
    "    return r"
   ]
  },
  {
   "cell_type": "code",
   "execution_count": 12,
   "metadata": {},
   "outputs": [],
   "source": [
    "def ConvertToCelsius(temp):\n",
    "        return (temp-32)*(5/9)"
   ]
  },
  {
   "cell_type": "code",
   "execution_count": 13,
   "metadata": {},
   "outputs": [],
   "source": [
    "def GetMostPopularCondition(conditions):\n",
    "        return Counter(conditions).most_common(1)[0][0]"
   ]
  },
  {
   "cell_type": "code",
   "execution_count": 14,
   "metadata": {},
   "outputs": [],
   "source": [
    "def scraper(url):\n",
    " \n",
    "    r = render_page(url)\n",
    "    print(url)\n",
    "    soup = BS(r, \"html.parser\")\n",
    "    container = soup.find('lib-city-history-observation')\n",
    "    try:\n",
    "        check = container.find('tbody')\n",
    "        \n",
    "        data = []\n",
    "\n",
    "        for c in check.find_all('tr', class_='ng-star-inserted'):\n",
    "            for i in c.find_all('td', class_='ng-star-inserted'):\n",
    "                trial = i.text\n",
    "                trial = trial.strip('  ')\n",
    "                data.append(trial)\n",
    "    except:\n",
    "        return '','','','',''\n",
    "    print(data)\n",
    "    #Time=[]\n",
    "    Temperature=[]\n",
    "    #Dew_Point=[]\n",
    "    Humidity=[]\n",
    "    #Wind=[]\n",
    "    #Wind_Speed=[]\n",
    "    #Wind_Gust=[]\n",
    "    Pressure=[]\n",
    "    Precipitation=[]\n",
    "    Condition=[]\n",
    "    if(len(data)>9):\n",
    "        for i in range(0,len(data),10):\n",
    "            if data[i][:1]=='9' or data[i][:2]=='10' or data[i][:2]=='11' or data[i][-2:]=='PM':\n",
    "                print(\"The time is: \"+data[i][:2]+data[i][-2:])\n",
    "                Temperature.append(ConvertToCelsius(int(data[i+1][:-3])))\n",
    "                Humidity.append(int(data[i+3][:-3]))\n",
    "                Pressure.append((float(data[i+7][:-4])*1013)/29.92)#inch to atm\n",
    "                Precipitation.append(float(data[i+8][:-4])*25.4)#inch to mm\n",
    "                Condition.append(data[i+9])\n",
    "        #print(str(Temperature[0]),'+',str(Humidity[0]),'+',str(Pressure[0]),'+',str(Precipitation[0])+'...')\n",
    "        if(len(Temperature)>0):\n",
    "            return  str(round(med(Temperature),1)),  str(round(med(Humidity),1)),  str(round(med(Pressure),2)), str(round(med(Precipitation),1)),GetMostPopularCondition(Condition)\n",
    "\n",
    "    return  '','','','',''"
   ]
  },
  {
   "cell_type": "code",
   "execution_count": null,
   "metadata": {},
   "outputs": [],
   "source": [
    "results"
   ]
  },
  {
   "cell_type": "markdown",
   "metadata": {},
   "source": [
    "Miejsce do poprawy zaokraglenia"
   ]
  },
  {
   "cell_type": "code",
   "execution_count": null,
   "metadata": {},
   "outputs": [],
   "source": [
    "\n",
    "#from os import walk\n",
    "#filenames=next(walk(\"Weather_dataCor/\"))[2]\n",
    "\n",
    "#for i in range(len(filenames)):\n",
    " #               data=[]\n",
    "  #              with open(\"Weather_dataCor/\"+filenames[i], 'r') as file:\n",
    "   #                 # read a list of lines into data\n",
    "    #                data = file.readlines()\n",
    "     #           try: \n",
    "      #              copy=data[2][:-2]\n",
    "       #             switched=str(round(float(copy),2))\n",
    "        #            data[2] = switched+\"\\n\"\n",
    "         #           \n",
    "          #          copy=data[0][:-2]\n",
    "          #          switched=str(round(float(copy),1))\n",
    "           #         data[0] = switched+\"\\n\"\n",
    "            #        \n",
    "             #       copy=data[1][:-2]\n",
    "              #      switched=str(round(float(copy),1))\n",
    "               #     data[1] = switched+\"\\n\"\n",
    "                    \n",
    "           #     except IndexError:pass\n",
    "                \n",
    "\n",
    "            #    with open(\"Weather_dataCor/\"+filenames[i], 'w') as file:\n",
    "             #       file.writelines( data )\n",
    "                    \n",
    "                \n",
    "\n",
    "                "
   ]
  },
  {
   "cell_type": "code",
   "execution_count": null,
   "metadata": {},
   "outputs": [],
   "source": [
    "\n",
    "#from os import walk\n",
    "#filenames=next(walk(\"Weather_dataCor/\"))[2]\n",
    "\n",
    "#for i in range(len(filenames)):\n",
    " #               data=[]\n",
    "  #              with open(\"Weather_dataCor/\"+filenames[i], 'r') as file:\n",
    "   #                 # read a list of lines into data\n",
    "    #                data = file.readlines()\n",
    "     #           try: \n",
    "      #              copy=data[2][:-2]\n",
    "       #             switched=str(round(float(copy),2))\n",
    "        #            data[2] = switched+\"\\n\"\n",
    "         #           \n",
    "          #          copy=data[0][:-2]\n",
    "           #         switched=str(round(float(copy),1))\n",
    "            #        data[0] = switched+\"\\n\"\n",
    "             #       \n",
    "              #      copy=data[1][:-2]\n",
    "               #     switched=str(round(float(copy),1))\n",
    "                #    data[1] = switched+\"\\n\"\n",
    "                    \n",
    "                #except IndexError:pass\n",
    "                \n",
    "\n",
    "               # with open(\"Weather_dataCor/\"+filenames[i], 'w') as file:\n",
    "                #    file.writelines( data )\n",
    "                    \n",
    "                \n",
    "\n",
    "                "
   ]
  },
  {
   "cell_type": "code",
   "execution_count": 47,
   "metadata": {},
   "outputs": [],
   "source": [
    "from os import walk\n",
    "filenames=next(walk(\"Weather_data/\"))[2]\n",
    "\n",
    "Temperature=[]\n",
    "Humidity=[]\n",
    "Pressure=[]\n",
    "Precipitation=[]\n",
    "Condition=[]\n",
    "\n",
    "for i in range(len(filenames)):\n",
    "                data=[]\n",
    "                data= open(\"Weather_data/\"+filenames[i], 'r').read().split('\\n')\n",
    "                    # read a list of lines into data\n",
    "                #print(data[0])\n",
    "                try: \n",
    "                    Temperature.append(float(data[0]))\n",
    "                except:\n",
    "                    Temperature.append('')\n",
    "                try:\n",
    "                    Humidity.append(float(data[1]))\n",
    "                    Pressure.append(float(data[2]))\n",
    "                    Precipitation.append(float(data[3]))\n",
    "                except:\n",
    "                    Humidity.append('')\n",
    "                    Pressure.append('')\n",
    "                    Precipitation.append('')\n",
    "                try:\n",
    "                    Condition.append(str(data[4]))\n",
    "                except:\n",
    "                    Condition.append('')\n",
    "                    \n",
    "                    \n",
    "weatherdataDict={\n",
    "    'Temperature':Temperature,\n",
    "    'Humidity':Humidity,\n",
    "    'Pressure':Pressure,\n",
    "    'Precipitation':Precipitation,\n",
    "    'Condition':Condition\n",
    "}\n",
    "\n",
    "\n",
    "wd=pd.DataFrame(weatherdataDict)\n",
    "wd.to_csv('WeatherDataHistory.csv')"
   ]
  },
  {
   "cell_type": "code",
   "execution_count": 15,
   "metadata": {},
   "outputs": [],
   "source": [
    "#dates = ['2019-4-12']\n",
    "#page = 'https://www.wunderground.com/history/daily/pt/lisbon/date/'\n",
    "\n",
    "#df = scraper(page, dates)\n",
    "#print(df)\n",
    "def GetData(placedate):\n",
    "    x=placedate[i].split('#') #data,miasto,kraj\n",
    "    if path.exists(\"Weather_data/\"+x[1]+\"&\"+x[0]+\".txt\")==False:\n",
    "        print(\"Current data: \"+x[1]+\"&\"+x[0])\n",
    "        print(\"CountryCodeNeeded: \"+x[2])\n",
    "        for j in range(len(countrycodes)):\n",
    "            if x[2]==countrycodes.iloc[j].three_letters_code:\n",
    "                print(\"CountryCodeGot: \"+str(countrycodes.iloc[j].two_letters_code))\n",
    "                if str(countrycodes.iloc[j].two_letters_code)=='US':\n",
    "                    for k in range(len(states)):\n",
    "                        if x[1]==states.iloc[k].Capital:\n",
    "                            f = open(\"Weather_data/\"+x[1]+\"&\"+x[0]+\".txt\", \"w\")\n",
    "                            page = 'https://www.wunderground.com/history/daily/'+str(countrycodes.iloc[j].two_letters_code)+'/'+states.iloc[k].ShortName+'/'+x[1]+'/date/'+x[0]\n",
    "                            Temperature,  Humidity,  Pressure, Precipitation,Condition=scraper(page)\n",
    "                            f.write(str(Temperature)+'\\n'+  str(Humidity)+'\\n'+  str(Pressure)+'\\n'+str(Precipitation)+'\\n'+Condition+'\\n')\n",
    "                            f.close()\n",
    "                            break\n",
    "                else:\n",
    "                    f = open(\"Weather_data/\"+x[1]+\"&\"+x[0]+\".txt\", \"w\")\n",
    "                    code=str(countrycodes.iloc[j].two_letters_code)\n",
    "                    if str(countrycodes.iloc[j].two_letters_code)=='NaN':\n",
    "                        code='NA'\n",
    "                    page = 'https://www.wunderground.com/history/daily/'+code+'/'+x[1]+'/date/'+x[0]\n",
    "                    Temperature,  Humidity,  Pressure, Precipitation,Condition=scraper(page)\n",
    "                    f.write(str(Temperature)+'\\n'+  str(Humidity)+'\\n'+  str(Pressure)+'\\n'+str(Precipitation)+'\\n'+Condition+'\\n')\n",
    "                    f.close()\n",
    "                break"
   ]
  },
  {
   "cell_type": "code",
   "execution_count": 19,
   "metadata": {},
   "outputs": [
    {
     "ename": "KeyboardInterrupt",
     "evalue": "",
     "output_type": "error",
     "traceback": [
      "\u001b[0;31m---------------------------------------------------------------------------\u001b[0m",
      "\u001b[0;31mKeyboardInterrupt\u001b[0m                         Traceback (most recent call last)",
      "\u001b[1;32m/Users/martini/Desktop/Projekt badawczy/magisterka_sprinterzy_igrzyska.ipynb Komórka 59\u001b[0m in \u001b[0;36m<module>\u001b[0;34m\u001b[0m\n\u001b[1;32m      <a href='vscode-notebook-cell:/Users/martini/Desktop/Projekt%20badawczy/magisterka_sprinterzy_igrzyska.ipynb#Y112sZmlsZQ%3D%3D?line=0'>1</a>\u001b[0m \u001b[39mfor\u001b[39;00m i \u001b[39min\u001b[39;00m \u001b[39mrange\u001b[39m(\u001b[39mlen\u001b[39m(placedate)):\n\u001b[1;32m      <a href='vscode-notebook-cell:/Users/martini/Desktop/Projekt%20badawczy/magisterka_sprinterzy_igrzyska.ipynb#Y112sZmlsZQ%3D%3D?line=1'>2</a>\u001b[0m     GetData(placedate)\n\u001b[0;32m----> <a href='vscode-notebook-cell:/Users/martini/Desktop/Projekt%20badawczy/magisterka_sprinterzy_igrzyska.ipynb#Y112sZmlsZQ%3D%3D?line=2'>3</a>\u001b[0m     clear_output()\n",
      "File \u001b[0;32m~/.julia/conda/3/lib/python3.9/site-packages/IPython/core/display_functions.py:386\u001b[0m, in \u001b[0;36mclear_output\u001b[0;34m(wait)\u001b[0m\n\u001b[1;32m    384\u001b[0m \u001b[39mfrom\u001b[39;00m \u001b[39mIPython\u001b[39;00m\u001b[39m.\u001b[39;00m\u001b[39mcore\u001b[39;00m\u001b[39m.\u001b[39;00m\u001b[39minteractiveshell\u001b[39;00m \u001b[39mimport\u001b[39;00m InteractiveShell\n\u001b[1;32m    385\u001b[0m \u001b[39mif\u001b[39;00m InteractiveShell\u001b[39m.\u001b[39minitialized():\n\u001b[0;32m--> 386\u001b[0m     InteractiveShell\u001b[39m.\u001b[39;49minstance()\u001b[39m.\u001b[39;49mdisplay_pub\u001b[39m.\u001b[39;49mclear_output(wait)\n\u001b[1;32m    387\u001b[0m \u001b[39melse\u001b[39;00m:\n\u001b[1;32m    388\u001b[0m     \u001b[39mprint\u001b[39m(\u001b[39m'\u001b[39m\u001b[39m\\033\u001b[39;00m\u001b[39m[2K\u001b[39m\u001b[39m\\r\u001b[39;00m\u001b[39m'\u001b[39m, end\u001b[39m=\u001b[39m\u001b[39m'\u001b[39m\u001b[39m'\u001b[39m)\n",
      "File \u001b[0;32m~/.julia/conda/3/lib/python3.9/site-packages/ipykernel/zmqshell.py:154\u001b[0m, in \u001b[0;36mZMQDisplayPublisher.clear_output\u001b[0;34m(self, wait)\u001b[0m\n\u001b[1;32m    143\u001b[0m \u001b[39m\"\"\"Clear output associated with the current execution (cell).\u001b[39;00m\n\u001b[1;32m    144\u001b[0m \n\u001b[1;32m    145\u001b[0m \u001b[39mParameters\u001b[39;00m\n\u001b[0;32m   (...)\u001b[0m\n\u001b[1;32m    151\u001b[0m \n\u001b[1;32m    152\u001b[0m \u001b[39m\"\"\"\u001b[39;00m\n\u001b[1;32m    153\u001b[0m content \u001b[39m=\u001b[39m \u001b[39mdict\u001b[39m(wait\u001b[39m=\u001b[39mwait)\n\u001b[0;32m--> 154\u001b[0m \u001b[39mself\u001b[39;49m\u001b[39m.\u001b[39;49m_flush_streams()\n\u001b[1;32m    155\u001b[0m \u001b[39mself\u001b[39m\u001b[39m.\u001b[39msession\u001b[39m.\u001b[39msend(\n\u001b[1;32m    156\u001b[0m     \u001b[39mself\u001b[39m\u001b[39m.\u001b[39mpub_socket, \u001b[39m'\u001b[39m\u001b[39mclear_output\u001b[39m\u001b[39m'\u001b[39m, content,\n\u001b[1;32m    157\u001b[0m     parent\u001b[39m=\u001b[39m\u001b[39mself\u001b[39m\u001b[39m.\u001b[39mparent_header, ident\u001b[39m=\u001b[39m\u001b[39mself\u001b[39m\u001b[39m.\u001b[39mtopic,\n\u001b[1;32m    158\u001b[0m )\n",
      "File \u001b[0;32m~/.julia/conda/3/lib/python3.9/site-packages/ipykernel/zmqshell.py:73\u001b[0m, in \u001b[0;36mZMQDisplayPublisher._flush_streams\u001b[0;34m(self)\u001b[0m\n\u001b[1;32m     71\u001b[0m \u001b[39m\"\"\"flush IO Streams prior to display\"\"\"\u001b[39;00m\n\u001b[1;32m     72\u001b[0m sys\u001b[39m.\u001b[39mstdout\u001b[39m.\u001b[39mflush()\n\u001b[0;32m---> 73\u001b[0m sys\u001b[39m.\u001b[39;49mstderr\u001b[39m.\u001b[39;49mflush()\n",
      "File \u001b[0;32m~/.julia/conda/3/lib/python3.9/site-packages/ipykernel/iostream.py:468\u001b[0m, in \u001b[0;36mOutStream.flush\u001b[0;34m(self)\u001b[0m\n\u001b[1;32m    466\u001b[0m         \u001b[39mself\u001b[39m\u001b[39m.\u001b[39mpub_thread\u001b[39m.\u001b[39mschedule(evt\u001b[39m.\u001b[39mset)\n\u001b[1;32m    467\u001b[0m         \u001b[39m# and give a timeout to avoid\u001b[39;00m\n\u001b[0;32m--> 468\u001b[0m         \u001b[39mif\u001b[39;00m \u001b[39mnot\u001b[39;00m evt\u001b[39m.\u001b[39;49mwait(\u001b[39mself\u001b[39;49m\u001b[39m.\u001b[39;49mflush_timeout):\n\u001b[1;32m    469\u001b[0m             \u001b[39m# write directly to __stderr__ instead of warning because\u001b[39;00m\n\u001b[1;32m    470\u001b[0m             \u001b[39m# if this is happening sys.stderr may be the problem.\u001b[39;00m\n\u001b[1;32m    471\u001b[0m             \u001b[39mprint\u001b[39m(\u001b[39m\"\u001b[39m\u001b[39mIOStream.flush timed out\u001b[39m\u001b[39m\"\u001b[39m, file\u001b[39m=\u001b[39msys\u001b[39m.\u001b[39m__stderr__)\n\u001b[1;32m    472\u001b[0m \u001b[39melse\u001b[39;00m:\n",
      "File \u001b[0;32m~/.julia/conda/3/lib/python3.9/threading.py:574\u001b[0m, in \u001b[0;36mEvent.wait\u001b[0;34m(self, timeout)\u001b[0m\n\u001b[1;32m    572\u001b[0m signaled \u001b[39m=\u001b[39m \u001b[39mself\u001b[39m\u001b[39m.\u001b[39m_flag\n\u001b[1;32m    573\u001b[0m \u001b[39mif\u001b[39;00m \u001b[39mnot\u001b[39;00m signaled:\n\u001b[0;32m--> 574\u001b[0m     signaled \u001b[39m=\u001b[39m \u001b[39mself\u001b[39;49m\u001b[39m.\u001b[39;49m_cond\u001b[39m.\u001b[39;49mwait(timeout)\n\u001b[1;32m    575\u001b[0m \u001b[39mreturn\u001b[39;00m signaled\n",
      "File \u001b[0;32m~/.julia/conda/3/lib/python3.9/threading.py:316\u001b[0m, in \u001b[0;36mCondition.wait\u001b[0;34m(self, timeout)\u001b[0m\n\u001b[1;32m    314\u001b[0m \u001b[39melse\u001b[39;00m:\n\u001b[1;32m    315\u001b[0m     \u001b[39mif\u001b[39;00m timeout \u001b[39m>\u001b[39m \u001b[39m0\u001b[39m:\n\u001b[0;32m--> 316\u001b[0m         gotit \u001b[39m=\u001b[39m waiter\u001b[39m.\u001b[39;49macquire(\u001b[39mTrue\u001b[39;49;00m, timeout)\n\u001b[1;32m    317\u001b[0m     \u001b[39melse\u001b[39;00m:\n\u001b[1;32m    318\u001b[0m         gotit \u001b[39m=\u001b[39m waiter\u001b[39m.\u001b[39macquire(\u001b[39mFalse\u001b[39;00m)\n",
      "\u001b[0;31mKeyboardInterrupt\u001b[0m: "
     ]
    }
   ],
   "source": [
    "for i in range(len(placedate)):\n",
    "    GetData(placedate)\n",
    "    clear_output()"
   ]
  },
  {
   "cell_type": "code",
   "execution_count": null,
   "metadata": {},
   "outputs": [],
   "source": [
    "#zrobic tabelke z: imie nazwisko OK, kraj OK, data urodzenia OK, wzrost OK, wiek OK, zdj"
   ]
  },
  {
   "cell_type": "code",
   "execution_count": null,
   "metadata": {},
   "outputs": [],
   "source": [
    "#pobrac dane sprzed 20lat z iaaf i je polaczyc z tymi\n",
    "\n",
    "#wejsc wewnatrz danych z iaaf, aby miec pb, sb w danym momencie startu\n",
    "\n",
    "#mnpm"
   ]
  },
  {
   "cell_type": "code",
   "execution_count": 48,
   "metadata": {},
   "outputs": [
    {
     "name": "stdout",
     "output_type": "stream",
     "text": [
      "<class 'pandas.core.frame.DataFrame'>\n",
      "RangeIndex: 33562 entries, 0 to 33561\n",
      "Data columns (total 6 columns):\n",
      " #   Column         Non-Null Count  Dtype  \n",
      "---  ------         --------------  -----  \n",
      " 0   Unnamed: 0     33562 non-null  int64  \n",
      " 1   Temperature    27636 non-null  float64\n",
      " 2   Humidity       27636 non-null  float64\n",
      " 3   Pressure       27636 non-null  float64\n",
      " 4   Precipitation  27636 non-null  float64\n",
      " 5   Condition      27196 non-null  object \n",
      "dtypes: float64(4), int64(1), object(1)\n",
      "memory usage: 1.5+ MB\n"
     ]
    }
   ],
   "source": [
    "\n",
    "import pandas as pd\n",
    "import seaborn as sns\n",
    "\n",
    "weatherdata=pd.read_csv('WeatherDataHistory.csv')\n",
    "\n",
    "weatherdata.info()\n",
    "\n"
   ]
  },
  {
   "attachments": {},
   "cell_type": "markdown",
   "metadata": {},
   "source": [
    "Fair --> 5\n",
    "Partly Cloudy --> 4\n",
    "Mostly CLoudy --> 3\n",
    "Cloudy/Rain cats n' dogs etc./fog patches --> 2\n",
    "Fog/Smoke --> 1\n",
    "\n",
    "nan"
   ]
  },
  {
   "cell_type": "code",
   "execution_count": 49,
   "metadata": {},
   "outputs": [
    {
     "data": {
      "text/plain": [
       "array([nan, 'Fair', 'Mostly Cloudy', 'Cloudy', 'Partly Cloudy',\n",
       "       'Mostly Cloudy / Windy', 'Showers in the Vicinity',\n",
       "       'Light Rain Shower / Windy', 'Rain Shower', 'Light Rain',\n",
       "       'Light Rain / Windy', 'Light Rain Shower', 'Cloudy / Windy',\n",
       "       'Fair / Windy', 'Haze', 'Blowing Dust / Windy', 'Mist',\n",
       "       'Partly Cloudy / Windy', 'Fog', 'T-Storm', 'Smoke', 'Thunder',\n",
       "       'Light Drizzle', 'Rain', 'Light Rain with Thunder', 'Light Snow',\n",
       "       'Light Drizzle / Windy', 'Sand', 'Heavy T-Storm',\n",
       "       'Thunder in the Vicinity', 'T-Storm / Windy', 'Drizzle',\n",
       "       'Heavy Rain Shower', 'Blowing Sand', 'Blowing Sand / Windy',\n",
       "       'Patches of Fog'], dtype=object)"
      ]
     },
     "execution_count": 49,
     "metadata": {},
     "output_type": "execute_result"
    }
   ],
   "source": [
    "weatherdata.Condition.unique()"
   ]
  },
  {
   "cell_type": "code",
   "execution_count": 60,
   "metadata": {},
   "outputs": [
    {
     "data": {
      "text/html": [
       "<div>\n",
       "<style scoped>\n",
       "    .dataframe tbody tr th:only-of-type {\n",
       "        vertical-align: middle;\n",
       "    }\n",
       "\n",
       "    .dataframe tbody tr th {\n",
       "        vertical-align: top;\n",
       "    }\n",
       "\n",
       "    .dataframe thead th {\n",
       "        text-align: right;\n",
       "    }\n",
       "</style>\n",
       "<table border=\"1\" class=\"dataframe\">\n",
       "  <thead>\n",
       "    <tr style=\"text-align: right;\">\n",
       "      <th></th>\n",
       "      <th>Unnamed: 0</th>\n",
       "      <th>Temperature</th>\n",
       "      <th>Humidity</th>\n",
       "      <th>Pressure</th>\n",
       "      <th>Precipitation</th>\n",
       "    </tr>\n",
       "  </thead>\n",
       "  <tbody>\n",
       "    <tr>\n",
       "      <th>count</th>\n",
       "      <td>33562.000000</td>\n",
       "      <td>27636.000000</td>\n",
       "      <td>27636.000000</td>\n",
       "      <td>27636.000000</td>\n",
       "      <td>27636.000000</td>\n",
       "    </tr>\n",
       "    <tr>\n",
       "      <th>mean</th>\n",
       "      <td>16780.500000</td>\n",
       "      <td>21.057866</td>\n",
       "      <td>58.495857</td>\n",
       "      <td>980.503060</td>\n",
       "      <td>0.001911</td>\n",
       "    </tr>\n",
       "    <tr>\n",
       "      <th>std</th>\n",
       "      <td>9688.659204</td>\n",
       "      <td>6.156418</td>\n",
       "      <td>19.385277</td>\n",
       "      <td>84.603607</td>\n",
       "      <td>0.066590</td>\n",
       "    </tr>\n",
       "    <tr>\n",
       "      <th>min</th>\n",
       "      <td>0.000000</td>\n",
       "      <td>-17.800000</td>\n",
       "      <td>0.000000</td>\n",
       "      <td>0.000000</td>\n",
       "      <td>0.000000</td>\n",
       "    </tr>\n",
       "    <tr>\n",
       "      <th>25%</th>\n",
       "      <td>8390.250000</td>\n",
       "      <td>17.200000</td>\n",
       "      <td>45.000000</td>\n",
       "      <td>979.820000</td>\n",
       "      <td>0.000000</td>\n",
       "    </tr>\n",
       "    <tr>\n",
       "      <th>50%</th>\n",
       "      <td>16780.500000</td>\n",
       "      <td>21.100000</td>\n",
       "      <td>59.000000</td>\n",
       "      <td>1001.150000</td>\n",
       "      <td>0.000000</td>\n",
       "    </tr>\n",
       "    <tr>\n",
       "      <th>75%</th>\n",
       "      <td>25170.750000</td>\n",
       "      <td>25.600000</td>\n",
       "      <td>73.000000</td>\n",
       "      <td>1010.290000</td>\n",
       "      <td>0.000000</td>\n",
       "    </tr>\n",
       "    <tr>\n",
       "      <th>max</th>\n",
       "      <td>33561.000000</td>\n",
       "      <td>42.200000</td>\n",
       "      <td>100.000000</td>\n",
       "      <td>1037.380000</td>\n",
       "      <td>2.500000</td>\n",
       "    </tr>\n",
       "  </tbody>\n",
       "</table>\n",
       "</div>"
      ],
      "text/plain": [
       "         Unnamed: 0   Temperature      Humidity      Pressure  Precipitation\n",
       "count  33562.000000  27636.000000  27636.000000  27636.000000   27636.000000\n",
       "mean   16780.500000     21.057866     58.495857    980.503060       0.001911\n",
       "std     9688.659204      6.156418     19.385277     84.603607       0.066590\n",
       "min        0.000000    -17.800000      0.000000      0.000000       0.000000\n",
       "25%     8390.250000     17.200000     45.000000    979.820000       0.000000\n",
       "50%    16780.500000     21.100000     59.000000   1001.150000       0.000000\n",
       "75%    25170.750000     25.600000     73.000000   1010.290000       0.000000\n",
       "max    33561.000000     42.200000    100.000000   1037.380000       2.500000"
      ]
     },
     "execution_count": 60,
     "metadata": {},
     "output_type": "execute_result"
    }
   ],
   "source": [
    "weatherdata.describe()"
   ]
  },
  {
   "cell_type": "code",
   "execution_count": 59,
   "metadata": {},
   "outputs": [
    {
     "data": {
      "text/plain": [
       "Unnamed: 0          0\n",
       "Temperature      5926\n",
       "Humidity         5926\n",
       "Pressure         5926\n",
       "Precipitation    5926\n",
       "Condition        6366\n",
       "dtype: int64"
      ]
     },
     "execution_count": 59,
     "metadata": {},
     "output_type": "execute_result"
    }
   ],
   "source": [
    "weatherdata.isnull().sum()"
   ]
  },
  {
   "cell_type": "code",
   "execution_count": 57,
   "metadata": {},
   "outputs": [
    {
     "data": {
      "image/png": "[encoded data removed]",
      "text/plain": [
       "<Figure size 432x288 with 1 Axes>"
      ]
     },
     "metadata": {
      "needs_background": "light"
     },
     "output_type": "display_data"
    }
   ],
   "source": [
    "ax=sns.heatmap(weatherdata.isnull(), yticklabels=False, cbar=False)\n"
   ]
  },
  {
   "attachments": {},
   "cell_type": "markdown",
   "metadata": {},
   "source": [
    "Histograms"
   ]
  },
  {
   "cell_type": "code",
   "execution_count": 61,
   "metadata": {},
   "outputs": [
    {
     "name": "stderr",
     "output_type": "stream",
     "text": [
      "C:\\Users\\marci\\AppData\\Local\\Temp\\ipykernel_27864\\2162525275.py:2: UserWarning: \n",
      "\n",
      "`distplot` is a deprecated function and will be removed in seaborn v0.14.0.\n",
      "\n",
      "Please adapt your code to use either `displot` (a figure-level function with\n",
      "similar flexibility) or `histplot` (an axes-level function for histograms).\n",
      "\n",
      "For a guide to updating your code to use the new functions, please see\n",
      "https://gist.github.com/mwaskom/de44147ed2974457ad6372750bbe5751\n",
      "\n",
      "  sns.distplot(\n"
     ]
    },
    {
     "data": {
      "image/png": "[encoded data removed]",
      "text/plain": [
       "<Figure size 576x360 with 1 Axes>"
      ]
     },
     "metadata": {},
     "output_type": "display_data"
    }
   ],
   "source": [
    "sns.set(style='whitegrid', palette=\"deep\", font_scale=1.1, rc={\"figure.figsize\": [8, 5]})\n",
    "sns.distplot(\n",
    "    weatherdata['Temperature'], norm_hist=False, kde=False, bins=20, hist_kws={\"alpha\": 1}\n",
    ").set(xlabel='Temperature', ylabel='counts');"
   ]
  },
  {
   "cell_type": "code",
   "execution_count": 62,
   "metadata": {},
   "outputs": [
    {
     "name": "stderr",
     "output_type": "stream",
     "text": [
      "C:\\Users\\marci\\AppData\\Local\\Temp\\ipykernel_27864\\3951612266.py:2: UserWarning: \n",
      "\n",
      "`distplot` is a deprecated function and will be removed in seaborn v0.14.0.\n",
      "\n",
      "Please adapt your code to use either `displot` (a figure-level function with\n",
      "similar flexibility) or `histplot` (an axes-level function for histograms).\n",
      "\n",
      "For a guide to updating your code to use the new functions, please see\n",
      "https://gist.github.com/mwaskom/de44147ed2974457ad6372750bbe5751\n",
      "\n",
      "  sns.distplot(\n"
     ]
    },
    {
     "data": {
      "image/png": "[encoded data removed]",
      "text/plain": [
       "<Figure size 576x360 with 1 Axes>"
      ]
     },
     "metadata": {},
     "output_type": "display_data"
    }
   ],
   "source": [
    "sns.set(style='whitegrid', palette=\"deep\", font_scale=1.1, rc={\"figure.figsize\": [8, 5]})\n",
    "sns.distplot(\n",
    "    weatherdata['Humidity'], norm_hist=False, kde=False, bins=20, hist_kws={\"alpha\": 1}\n",
    ").set(xlabel='Humidity', ylabel='counts');"
   ]
  },
  {
   "cell_type": "code",
   "execution_count": null,
   "metadata": {},
   "outputs": [],
   "source": []
  },
  {
   "cell_type": "code",
   "execution_count": 63,
   "metadata": {},
   "outputs": [
    {
     "name": "stderr",
     "output_type": "stream",
     "text": [
      "C:\\Users\\marci\\AppData\\Local\\Temp\\ipykernel_27864\\620175890.py:2: UserWarning: \n",
      "\n",
      "`distplot` is a deprecated function and will be removed in seaborn v0.14.0.\n",
      "\n",
      "Please adapt your code to use either `displot` (a figure-level function with\n",
      "similar flexibility) or `histplot` (an axes-level function for histograms).\n",
      "\n",
      "For a guide to updating your code to use the new functions, please see\n",
      "https://gist.github.com/mwaskom/de44147ed2974457ad6372750bbe5751\n",
      "\n",
      "  sns.distplot(\n"
     ]
    },
    {
     "data": {
      "image/png": "[encoded data removed]",
      "text/plain": [
       "<Figure size 576x360 with 1 Axes>"
      ]
     },
     "metadata": {},
     "output_type": "display_data"
    }
   ],
   "source": [
    "sns.set(style='whitegrid', palette=\"deep\", font_scale=1.1, rc={\"figure.figsize\": [8, 5]})\n",
    "sns.distplot(\n",
    "    weatherdata['Pressure'], norm_hist=False, kde=False, bins=20, hist_kws={\"alpha\": 1}\n",
    ").set(xlabel='Pressure', ylabel='counts');"
   ]
  },
  {
   "cell_type": "code",
   "execution_count": 64,
   "metadata": {},
   "outputs": [
    {
     "name": "stderr",
     "output_type": "stream",
     "text": [
      "C:\\Users\\marci\\AppData\\Local\\Temp\\ipykernel_27864\\1964909883.py:2: UserWarning: \n",
      "\n",
      "`distplot` is a deprecated function and will be removed in seaborn v0.14.0.\n",
      "\n",
      "Please adapt your code to use either `displot` (a figure-level function with\n",
      "similar flexibility) or `histplot` (an axes-level function for histograms).\n",
      "\n",
      "For a guide to updating your code to use the new functions, please see\n",
      "https://gist.github.com/mwaskom/de44147ed2974457ad6372750bbe5751\n",
      "\n",
      "  sns.distplot(\n"
     ]
    },
    {
     "data": {
      "image/png": "[encoded data removed]",
      "text/plain": [
       "<Figure size 576x360 with 1 Axes>"
      ]
     },
     "metadata": {},
     "output_type": "display_data"
    }
   ],
   "source": [
    "sns.set(style='whitegrid', palette=\"deep\", font_scale=1.1, rc={\"figure.figsize\": [8, 5]})\n",
    "sns.distplot(\n",
    "    weatherdata['Precipitation'], norm_hist=False, kde=False, bins=20, hist_kws={\"alpha\": 1}\n",
    ").set(xlabel='Precipitation', ylabel='counts');"
   ]
  },
  {
   "cell_type": "code",
   "execution_count": 77,
   "metadata": {},
   "outputs": [
    {
     "data": {
      "text/plain": [
       "<AxesSubplot: xlabel='Humidity', ylabel='Temperature'>"
      ]
     },
     "execution_count": 77,
     "metadata": {},
     "output_type": "execute_result"
    },
    {
     "data": {
      "image/png": "[encoded data removed]",
      "text/plain": [
       "<Figure size 576x360 with 1 Axes>"
      ]
     },
     "metadata": {},
     "output_type": "display_data"
    }
   ],
   "source": [
    "sorted_nb = weatherdata.groupby(['Humidity'])['Temperature'].median().sort_values()\n",
    "sns.boxplot(x=weatherdata['Humidity'], y=weatherdata['Temperature'], order=list(sorted_nb.index))"
   ]
  },
  {
   "cell_type": "code",
   "execution_count": 78,
   "metadata": {},
   "outputs": [
    {
     "data": {
      "image/png": "[encoded data removed]",
      "text/plain": [
       "<Figure size 576x360 with 1 Axes>"
      ]
     },
     "metadata": {},
     "output_type": "display_data"
    }
   ],
   "source": [
    "sns.scatterplot(x=weatherdata['Humidity'], y=weatherdata['Temperature']);"
   ]
  },
  {
   "attachments": {},
   "cell_type": "markdown",
   "metadata": {},
   "source": [
    "Conditions -> ints"
   ]
  },
  {
   "cell_type": "code",
   "execution_count": null,
   "metadata": {},
   "outputs": [],
   "source": []
  },
  {
   "cell_type": "code",
   "execution_count": 76,
   "metadata": {},
   "outputs": [
    {
     "data": {
      "text/plain": [
       "Counter({'': 6029,\n",
       "         'Fair': 14842,\n",
       "         'Mostly Cloudy': 6247,\n",
       "         'Cloudy': 2207,\n",
       "         'Partly Cloudy': 2569,\n",
       "         'N/A': 337,\n",
       "         'Mostly Cloudy / Windy': 125,\n",
       "         'Showers in the Vicinity': 86,\n",
       "         'Light Rain Shower / Windy': 11,\n",
       "         'Rain Shower': 11,\n",
       "         'Light Rain': 284,\n",
       "         'Light Rain / Windy': 7,\n",
       "         'Light Rain Shower': 147,\n",
       "         'Cloudy / Windy': 63,\n",
       "         'Fair / Windy': 358,\n",
       "         'Haze': 22,\n",
       "         'Blowing Dust / Windy': 2,\n",
       "         'Mist': 13,\n",
       "         'Partly Cloudy / Windy': 63,\n",
       "         'Fog': 38,\n",
       "         'T-Storm': 11,\n",
       "         'Smoke': 9,\n",
       "         'Thunder': 14,\n",
       "         'Light Drizzle': 10,\n",
       "         'Rain': 17,\n",
       "         'Light Rain with Thunder': 10,\n",
       "         'Light Snow': 5,\n",
       "         'Light Drizzle / Windy': 1,\n",
       "         'Sand': 1,\n",
       "         'Heavy T-Storm': 10,\n",
       "         'Thunder in the Vicinity': 6,\n",
       "         'T-Storm / Windy': 1,\n",
       "         'Drizzle': 2,\n",
       "         'Heavy Rain Shower': 1,\n",
       "         'Blowing Sand': 1,\n",
       "         'Blowing Sand / Windy': 1,\n",
       "         'Patches of Fog': 1})"
      ]
     },
     "execution_count": 76,
     "metadata": {},
     "output_type": "execute_result"
    }
   ],
   "source": [
    "Counter(Condition)"
   ]
  },
  {
   "cell_type": "code",
   "execution_count": 65,
   "metadata": {},
   "outputs": [
    {
     "name": "stderr",
     "output_type": "stream",
     "text": [
      "C:\\Users\\marci\\AppData\\Local\\Temp\\ipykernel_27864\\372221311.py:2: UserWarning: \n",
      "\n",
      "`distplot` is a deprecated function and will be removed in seaborn v0.14.0.\n",
      "\n",
      "Please adapt your code to use either `displot` (a figure-level function with\n",
      "similar flexibility) or `histplot` (an axes-level function for histograms).\n",
      "\n",
      "For a guide to updating your code to use the new functions, please see\n",
      "https://gist.github.com/mwaskom/de44147ed2974457ad6372750bbe5751\n",
      "\n",
      "  sns.distplot(\n"
     ]
    },
    {
     "ename": "ValueError",
     "evalue": "could not convert string to float: 'Fair'",
     "output_type": "error",
     "traceback": [
      "\u001b[1;31m---------------------------------------------------------------------------\u001b[0m",
      "\u001b[1;31mValueError\u001b[0m                                Traceback (most recent call last)",
      "\u001b[1;32mc:\\Users\\marci\\iCloudDrive\\Desktop\\Projekt badawczy\\magisterka_sprinterzy_igrzyska.ipynb Cell 73\u001b[0m in \u001b[0;36m<cell line: 2>\u001b[1;34m()\u001b[0m\n\u001b[0;32m      <a href='vscode-notebook-cell:/c%3A/Users/marci/iCloudDrive/Desktop/Projekt%20badawczy/magisterka_sprinterzy_igrzyska.ipynb#Y142sZmlsZQ%3D%3D?line=0'>1</a>\u001b[0m sns\u001b[39m.\u001b[39mset(style\u001b[39m=\u001b[39m\u001b[39m'\u001b[39m\u001b[39mwhitegrid\u001b[39m\u001b[39m'\u001b[39m, palette\u001b[39m=\u001b[39m\u001b[39m\"\u001b[39m\u001b[39mdeep\u001b[39m\u001b[39m\"\u001b[39m, font_scale\u001b[39m=\u001b[39m\u001b[39m1.1\u001b[39m, rc\u001b[39m=\u001b[39m{\u001b[39m\"\u001b[39m\u001b[39mfigure.figsize\u001b[39m\u001b[39m\"\u001b[39m: [\u001b[39m8\u001b[39m, \u001b[39m5\u001b[39m]})\n\u001b[1;32m----> <a href='vscode-notebook-cell:/c%3A/Users/marci/iCloudDrive/Desktop/Projekt%20badawczy/magisterka_sprinterzy_igrzyska.ipynb#Y142sZmlsZQ%3D%3D?line=1'>2</a>\u001b[0m sns\u001b[39m.\u001b[39;49mdistplot(\n\u001b[0;32m      <a href='vscode-notebook-cell:/c%3A/Users/marci/iCloudDrive/Desktop/Projekt%20badawczy/magisterka_sprinterzy_igrzyska.ipynb#Y142sZmlsZQ%3D%3D?line=2'>3</a>\u001b[0m     weatherdata[\u001b[39m'\u001b[39;49m\u001b[39mCondition\u001b[39;49m\u001b[39m'\u001b[39;49m], norm_hist\u001b[39m=\u001b[39;49m\u001b[39mFalse\u001b[39;49;00m, kde\u001b[39m=\u001b[39;49m\u001b[39mFalse\u001b[39;49;00m, bins\u001b[39m=\u001b[39;49m\u001b[39m20\u001b[39;49m, hist_kws\u001b[39m=\u001b[39;49m{\u001b[39m\"\u001b[39;49m\u001b[39malpha\u001b[39;49m\u001b[39m\"\u001b[39;49m: \u001b[39m1\u001b[39;49m}\n\u001b[0;32m      <a href='vscode-notebook-cell:/c%3A/Users/marci/iCloudDrive/Desktop/Projekt%20badawczy/magisterka_sprinterzy_igrzyska.ipynb#Y142sZmlsZQ%3D%3D?line=3'>4</a>\u001b[0m )\u001b[39m.\u001b[39mset(xlabel\u001b[39m=\u001b[39m\u001b[39m'\u001b[39m\u001b[39mCondition\u001b[39m\u001b[39m'\u001b[39m, ylabel\u001b[39m=\u001b[39m\u001b[39m'\u001b[39m\u001b[39mcounts\u001b[39m\u001b[39m'\u001b[39m)\n",
      "File \u001b[1;32mc:\\Users\\marci\\AppData\\Local\\Programs\\Python\\Python310\\lib\\site-packages\\seaborn\\distributions.py:2458\u001b[0m, in \u001b[0;36mdistplot\u001b[1;34m(a, bins, hist, kde, rug, fit, hist_kws, kde_kws, rug_kws, fit_kws, color, vertical, norm_hist, axlabel, label, ax, x)\u001b[0m\n\u001b[0;32m   2455\u001b[0m     a \u001b[39m=\u001b[39m x\n\u001b[0;32m   2457\u001b[0m \u001b[39m# Make a a 1-d float array\u001b[39;00m\n\u001b[1;32m-> 2458\u001b[0m a \u001b[39m=\u001b[39m np\u001b[39m.\u001b[39;49masarray(a, \u001b[39mfloat\u001b[39;49m)\n\u001b[0;32m   2459\u001b[0m \u001b[39mif\u001b[39;00m a\u001b[39m.\u001b[39mndim \u001b[39m>\u001b[39m \u001b[39m1\u001b[39m:\n\u001b[0;32m   2460\u001b[0m     a \u001b[39m=\u001b[39m a\u001b[39m.\u001b[39msqueeze()\n",
      "File \u001b[1;32mc:\\Users\\marci\\AppData\\Local\\Programs\\Python\\Python310\\lib\\site-packages\\pandas\\core\\series.py:893\u001b[0m, in \u001b[0;36mSeries.__array__\u001b[1;34m(self, dtype)\u001b[0m\n\u001b[0;32m    846\u001b[0m \u001b[39mdef\u001b[39;00m \u001b[39m__array__\u001b[39m(\u001b[39mself\u001b[39m, dtype: npt\u001b[39m.\u001b[39mDTypeLike \u001b[39m|\u001b[39m \u001b[39mNone\u001b[39;00m \u001b[39m=\u001b[39m \u001b[39mNone\u001b[39;00m) \u001b[39m-\u001b[39m\u001b[39m>\u001b[39m np\u001b[39m.\u001b[39mndarray:\n\u001b[0;32m    847\u001b[0m     \u001b[39m\"\"\"\u001b[39;00m\n\u001b[0;32m    848\u001b[0m \u001b[39m    Return the values as a NumPy array.\u001b[39;00m\n\u001b[0;32m    849\u001b[0m \n\u001b[1;32m   (...)\u001b[0m\n\u001b[0;32m    891\u001b[0m \u001b[39m          dtype='datetime64[ns]')\u001b[39;00m\n\u001b[0;32m    892\u001b[0m \u001b[39m    \"\"\"\u001b[39;00m\n\u001b[1;32m--> 893\u001b[0m     \u001b[39mreturn\u001b[39;00m np\u001b[39m.\u001b[39;49masarray(\u001b[39mself\u001b[39;49m\u001b[39m.\u001b[39;49m_values, dtype)\n",
      "\u001b[1;31mValueError\u001b[0m: could not convert string to float: 'Fair'"
     ]
    },
    {
     "data": {
      "image/png": "[encoded data removed]",
      "text/plain": [
       "<Figure size 576x360 with 1 Axes>"
      ]
     },
     "metadata": {},
     "output_type": "display_data"
    }
   ],
   "source": [
    "sns.set(style='whitegrid', palette=\"deep\", font_scale=1.1, rc={\"figure.figsize\": [8, 5]})\n",
    "sns.distplot(\n",
    "    weatherdata['Condition'], norm_hist=False, kde=False, bins=20, hist_kws={\"alpha\": 1}\n",
    ").set(xlabel='Condition', ylabel='counts');"
   ]
  },
  {
   "attachments": {},
   "cell_type": "markdown",
   "metadata": {},
   "source": [
    "Analiza"
   ]
  },
  {
   "cell_type": "code",
   "execution_count": null,
   "metadata": {},
   "outputs": [],
   "source": []
  },
  {
   "cell_type": "code",
   "execution_count": null,
   "metadata": {},
   "outputs": [],
   "source": []
  },
  {
   "cell_type": "code",
   "execution_count": null,
   "metadata": {},
   "outputs": [],
   "source": []
  }
 ],
 "metadata": {
  "kernelspec": {
   "display_name": "Python 3",
   "language": "python",
   "name": "python3"
  },
  "language_info": {
   "codemirror_mode": {
    "name": "ipython",
    "version": 3
   },
   "file_extension": ".py",
   "mimetype": "text/x-python",
   "name": "python",
   "nbconvert_exporter": "python",
   "pygments_lexer": "ipython3",
   "version": "3.9.10"
  },
  "vscode": {
   "interpreter": {
    "hash": "ea3d871d9000433c2411e1faca9db3ad2584671bcc4842e5c4d3b96d1cae408b"
   }
  }
 },
 "nbformat": 4,
 "nbformat_minor": 4
}
