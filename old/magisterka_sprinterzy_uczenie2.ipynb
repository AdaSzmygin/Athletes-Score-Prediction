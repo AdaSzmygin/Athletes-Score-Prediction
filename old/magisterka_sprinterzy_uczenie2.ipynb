{
 "cells": [
  {
   "cell_type": "code",
   "execution_count": 3,
   "id": "a7c8ae13",
   "metadata": {},
   "outputs": [],
   "source": [
    "import pandas as pd\n",
    "import torch\n",
    "from torch import nn\n",
    "import matplotlib.pyplot as plt\n",
    "import numpy as np\n",
    "from sklearn.model_selection import train_test_split\n",
    "from sklearn.linear_model import LinearRegression\n",
    "from sklearn.metrics import log_loss,confusion_matrix\n",
    "import plotly.express as px  \n",
    "import sklearn\n",
    "import math"
   ]
  },
  {
   "cell_type": "code",
   "execution_count": 4,
   "id": "b0dda0bc",
   "metadata": {
    "scrolled": true
   },
   "outputs": [],
   "source": [
    "results=pd.read_csv(r'results.csv',index_col=[0])\n"
   ]
  },
  {
   "cell_type": "code",
   "execution_count": 5,
   "id": "662651aa",
   "metadata": {},
   "outputs": [
    {
     "data": {
      "text/html": [
       "<div>\n",
       "<style scoped>\n",
       "    .dataframe tbody tr th:only-of-type {\n",
       "        vertical-align: middle;\n",
       "    }\n",
       "\n",
       "    .dataframe tbody tr th {\n",
       "        vertical-align: top;\n",
       "    }\n",
       "\n",
       "    .dataframe thead th {\n",
       "        text-align: right;\n",
       "    }\n",
       "</style>\n",
       "<table border=\"1\" class=\"dataframe\">\n",
       "  <thead>\n",
       "    <tr style=\"text-align: right;\">\n",
       "      <th></th>\n",
       "      <th>numer</th>\n",
       "      <th>wynik</th>\n",
       "      <th>City</th>\n",
       "      <th>wiatr</th>\n",
       "      <th>kraj_zawodow</th>\n",
       "      <th>kraj_urodz</th>\n",
       "      <th>czy_kraj</th>\n",
       "      <th>wiek</th>\n",
       "      <th>pb_aktualne</th>\n",
       "      <th>nr_start_kariera</th>\n",
       "      <th>rok</th>\n",
       "      <th>nr_start_sezon</th>\n",
       "      <th>sb_aktualne</th>\n",
       "      <th>Temperature</th>\n",
       "      <th>Humidity</th>\n",
       "      <th>Pressure</th>\n",
       "      <th>Condition</th>\n",
       "      <th>Rain</th>\n",
       "    </tr>\n",
       "  </thead>\n",
       "  <tbody>\n",
       "    <tr>\n",
       "      <th>0</th>\n",
       "      <td>14164603</td>\n",
       "      <td>11.40</td>\n",
       "      <td>2546</td>\n",
       "      <td>0.261719</td>\n",
       "      <td>176</td>\n",
       "      <td>61</td>\n",
       "      <td>0</td>\n",
       "      <td>19.55</td>\n",
       "      <td>NaN</td>\n",
       "      <td>1</td>\n",
       "      <td>2009</td>\n",
       "      <td>1</td>\n",
       "      <td>NaN</td>\n",
       "      <td>0.880000</td>\n",
       "      <td>0.265</td>\n",
       "      <td>0.964748</td>\n",
       "      <td>5.0</td>\n",
       "      <td>0.0</td>\n",
       "    </tr>\n",
       "    <tr>\n",
       "      <th>1</th>\n",
       "      <td>14164603</td>\n",
       "      <td>11.09</td>\n",
       "      <td>1773</td>\n",
       "      <td>0.433594</td>\n",
       "      <td>61</td>\n",
       "      <td>61</td>\n",
       "      <td>1</td>\n",
       "      <td>20.51</td>\n",
       "      <td>11.40</td>\n",
       "      <td>2</td>\n",
       "      <td>2010</td>\n",
       "      <td>1</td>\n",
       "      <td>NaN</td>\n",
       "      <td>NaN</td>\n",
       "      <td>NaN</td>\n",
       "      <td>NaN</td>\n",
       "      <td>NaN</td>\n",
       "      <td>NaN</td>\n",
       "    </tr>\n",
       "    <tr>\n",
       "      <th>2</th>\n",
       "      <td>14164603</td>\n",
       "      <td>11.23</td>\n",
       "      <td>3574</td>\n",
       "      <td>0.445312</td>\n",
       "      <td>61</td>\n",
       "      <td>61</td>\n",
       "      <td>1</td>\n",
       "      <td>20.53</td>\n",
       "      <td>11.09</td>\n",
       "      <td>3</td>\n",
       "      <td>2010</td>\n",
       "      <td>2</td>\n",
       "      <td>11.09</td>\n",
       "      <td>0.676667</td>\n",
       "      <td>0.690</td>\n",
       "      <td>0.975515</td>\n",
       "      <td>5.0</td>\n",
       "      <td>0.0</td>\n",
       "    </tr>\n",
       "    <tr>\n",
       "      <th>3</th>\n",
       "      <td>14164603</td>\n",
       "      <td>11.21</td>\n",
       "      <td>3574</td>\n",
       "      <td>0.324219</td>\n",
       "      <td>61</td>\n",
       "      <td>61</td>\n",
       "      <td>1</td>\n",
       "      <td>20.53</td>\n",
       "      <td>11.09</td>\n",
       "      <td>4</td>\n",
       "      <td>2010</td>\n",
       "      <td>3</td>\n",
       "      <td>11.09</td>\n",
       "      <td>0.676667</td>\n",
       "      <td>0.690</td>\n",
       "      <td>0.975515</td>\n",
       "      <td>5.0</td>\n",
       "      <td>0.0</td>\n",
       "    </tr>\n",
       "    <tr>\n",
       "      <th>4</th>\n",
       "      <td>14164603</td>\n",
       "      <td>10.93</td>\n",
       "      <td>3255</td>\n",
       "      <td>0.460938</td>\n",
       "      <td>64</td>\n",
       "      <td>61</td>\n",
       "      <td>0</td>\n",
       "      <td>21.42</td>\n",
       "      <td>11.09</td>\n",
       "      <td>5</td>\n",
       "      <td>2011</td>\n",
       "      <td>1</td>\n",
       "      <td>NaN</td>\n",
       "      <td>NaN</td>\n",
       "      <td>NaN</td>\n",
       "      <td>NaN</td>\n",
       "      <td>NaN</td>\n",
       "      <td>NaN</td>\n",
       "    </tr>\n",
       "    <tr>\n",
       "      <th>...</th>\n",
       "      <td>...</td>\n",
       "      <td>...</td>\n",
       "      <td>...</td>\n",
       "      <td>...</td>\n",
       "      <td>...</td>\n",
       "      <td>...</td>\n",
       "      <td>...</td>\n",
       "      <td>...</td>\n",
       "      <td>...</td>\n",
       "      <td>...</td>\n",
       "      <td>...</td>\n",
       "      <td>...</td>\n",
       "      <td>...</td>\n",
       "      <td>...</td>\n",
       "      <td>...</td>\n",
       "      <td>...</td>\n",
       "      <td>...</td>\n",
       "      <td>...</td>\n",
       "    </tr>\n",
       "    <tr>\n",
       "      <th>581272</th>\n",
       "      <td>15054047</td>\n",
       "      <td>10.88</td>\n",
       "      <td>2614</td>\n",
       "      <td>0.410156</td>\n",
       "      <td>100</td>\n",
       "      <td>100</td>\n",
       "      <td>1</td>\n",
       "      <td>17.09</td>\n",
       "      <td>NaN</td>\n",
       "      <td>1</td>\n",
       "      <td>2022</td>\n",
       "      <td>1</td>\n",
       "      <td>NaN</td>\n",
       "      <td>NaN</td>\n",
       "      <td>NaN</td>\n",
       "      <td>NaN</td>\n",
       "      <td>NaN</td>\n",
       "      <td>NaN</td>\n",
       "    </tr>\n",
       "    <tr>\n",
       "      <th>581273</th>\n",
       "      <td>15054107</td>\n",
       "      <td>10.71</td>\n",
       "      <td>4101</td>\n",
       "      <td>0.421875</td>\n",
       "      <td>100</td>\n",
       "      <td>100</td>\n",
       "      <td>1</td>\n",
       "      <td>17.30</td>\n",
       "      <td>NaN</td>\n",
       "      <td>1</td>\n",
       "      <td>2022</td>\n",
       "      <td>1</td>\n",
       "      <td>NaN</td>\n",
       "      <td>0.593333</td>\n",
       "      <td>0.830</td>\n",
       "      <td>0.984336</td>\n",
       "      <td>2.0</td>\n",
       "      <td>1.0</td>\n",
       "    </tr>\n",
       "    <tr>\n",
       "      <th>581274</th>\n",
       "      <td>15054107</td>\n",
       "      <td>10.79</td>\n",
       "      <td>4101</td>\n",
       "      <td>0.394531</td>\n",
       "      <td>100</td>\n",
       "      <td>100</td>\n",
       "      <td>1</td>\n",
       "      <td>17.30</td>\n",
       "      <td>10.71</td>\n",
       "      <td>2</td>\n",
       "      <td>2022</td>\n",
       "      <td>2</td>\n",
       "      <td>10.71</td>\n",
       "      <td>0.593333</td>\n",
       "      <td>0.830</td>\n",
       "      <td>0.984336</td>\n",
       "      <td>2.0</td>\n",
       "      <td>1.0</td>\n",
       "    </tr>\n",
       "    <tr>\n",
       "      <th>581275</th>\n",
       "      <td>15054126</td>\n",
       "      <td>10.96</td>\n",
       "      <td>1630</td>\n",
       "      <td>0.367188</td>\n",
       "      <td>100</td>\n",
       "      <td>100</td>\n",
       "      <td>1</td>\n",
       "      <td>18.64</td>\n",
       "      <td>NaN</td>\n",
       "      <td>1</td>\n",
       "      <td>2022</td>\n",
       "      <td>1</td>\n",
       "      <td>NaN</td>\n",
       "      <td>0.648333</td>\n",
       "      <td>0.805</td>\n",
       "      <td>0.979275</td>\n",
       "      <td>3.0</td>\n",
       "      <td>0.0</td>\n",
       "    </tr>\n",
       "    <tr>\n",
       "      <th>581276</th>\n",
       "      <td>15054126</td>\n",
       "      <td>10.92</td>\n",
       "      <td>1630</td>\n",
       "      <td>0.394531</td>\n",
       "      <td>100</td>\n",
       "      <td>100</td>\n",
       "      <td>1</td>\n",
       "      <td>18.64</td>\n",
       "      <td>10.96</td>\n",
       "      <td>2</td>\n",
       "      <td>2022</td>\n",
       "      <td>2</td>\n",
       "      <td>10.96</td>\n",
       "      <td>0.648333</td>\n",
       "      <td>0.805</td>\n",
       "      <td>0.979275</td>\n",
       "      <td>3.0</td>\n",
       "      <td>0.0</td>\n",
       "    </tr>\n",
       "  </tbody>\n",
       "</table>\n",
       "<p>581277 rows × 18 columns</p>\n",
       "</div>"
      ],
      "text/plain": [
       "           numer  wynik  City     wiatr  kraj_zawodow  kraj_urodz  czy_kraj  \\\n",
       "0       14164603  11.40  2546  0.261719           176          61         0   \n",
       "1       14164603  11.09  1773  0.433594            61          61         1   \n",
       "2       14164603  11.23  3574  0.445312            61          61         1   \n",
       "3       14164603  11.21  3574  0.324219            61          61         1   \n",
       "4       14164603  10.93  3255  0.460938            64          61         0   \n",
       "...          ...    ...   ...       ...           ...         ...       ...   \n",
       "581272  15054047  10.88  2614  0.410156           100         100         1   \n",
       "581273  15054107  10.71  4101  0.421875           100         100         1   \n",
       "581274  15054107  10.79  4101  0.394531           100         100         1   \n",
       "581275  15054126  10.96  1630  0.367188           100         100         1   \n",
       "581276  15054126  10.92  1630  0.394531           100         100         1   \n",
       "\n",
       "         wiek  pb_aktualne  nr_start_kariera   rok  nr_start_sezon  \\\n",
       "0       19.55          NaN                 1  2009               1   \n",
       "1       20.51        11.40                 2  2010               1   \n",
       "2       20.53        11.09                 3  2010               2   \n",
       "3       20.53        11.09                 4  2010               3   \n",
       "4       21.42        11.09                 5  2011               1   \n",
       "...       ...          ...               ...   ...             ...   \n",
       "581272  17.09          NaN                 1  2022               1   \n",
       "581273  17.30          NaN                 1  2022               1   \n",
       "581274  17.30        10.71                 2  2022               2   \n",
       "581275  18.64          NaN                 1  2022               1   \n",
       "581276  18.64        10.96                 2  2022               2   \n",
       "\n",
       "        sb_aktualne  Temperature  Humidity  Pressure  Condition  Rain  \n",
       "0               NaN     0.880000     0.265  0.964748        5.0   0.0  \n",
       "1               NaN          NaN       NaN       NaN        NaN   NaN  \n",
       "2             11.09     0.676667     0.690  0.975515        5.0   0.0  \n",
       "3             11.09     0.676667     0.690  0.975515        5.0   0.0  \n",
       "4               NaN          NaN       NaN       NaN        NaN   NaN  \n",
       "...             ...          ...       ...       ...        ...   ...  \n",
       "581272          NaN          NaN       NaN       NaN        NaN   NaN  \n",
       "581273          NaN     0.593333     0.830  0.984336        2.0   1.0  \n",
       "581274        10.71     0.593333     0.830  0.984336        2.0   1.0  \n",
       "581275          NaN     0.648333     0.805  0.979275        3.0   0.0  \n",
       "581276        10.96     0.648333     0.805  0.979275        3.0   0.0  \n",
       "\n",
       "[581277 rows x 18 columns]"
      ]
     },
     "execution_count": 5,
     "metadata": {},
     "output_type": "execute_result"
    }
   ],
   "source": [
    "results"
   ]
  },
  {
   "cell_type": "code",
   "execution_count": 6,
   "id": "6b6251ce",
   "metadata": {},
   "outputs": [],
   "source": [
    "results2 = results"
   ]
  },
  {
   "cell_type": "code",
   "execution_count": 7,
   "id": "51e539c1",
   "metadata": {},
   "outputs": [],
   "source": [
    "results2 = results2[:90000]"
   ]
  },
  {
   "cell_type": "code",
   "execution_count": 8,
   "id": "521a5bd7",
   "metadata": {},
   "outputs": [
    {
     "data": {
      "text/html": [
       "<div>\n",
       "<style scoped>\n",
       "    .dataframe tbody tr th:only-of-type {\n",
       "        vertical-align: middle;\n",
       "    }\n",
       "\n",
       "    .dataframe tbody tr th {\n",
       "        vertical-align: top;\n",
       "    }\n",
       "\n",
       "    .dataframe thead th {\n",
       "        text-align: right;\n",
       "    }\n",
       "</style>\n",
       "<table border=\"1\" class=\"dataframe\">\n",
       "  <thead>\n",
       "    <tr style=\"text-align: right;\">\n",
       "      <th></th>\n",
       "      <th>numer</th>\n",
       "      <th>wynik</th>\n",
       "      <th>City</th>\n",
       "      <th>wiatr</th>\n",
       "      <th>kraj_zawodow</th>\n",
       "      <th>kraj_urodz</th>\n",
       "      <th>czy_kraj</th>\n",
       "      <th>wiek</th>\n",
       "      <th>pb_aktualne</th>\n",
       "      <th>nr_start_kariera</th>\n",
       "      <th>rok</th>\n",
       "      <th>nr_start_sezon</th>\n",
       "      <th>sb_aktualne</th>\n",
       "      <th>Temperature</th>\n",
       "      <th>Humidity</th>\n",
       "      <th>Pressure</th>\n",
       "      <th>Condition</th>\n",
       "      <th>Rain</th>\n",
       "    </tr>\n",
       "  </thead>\n",
       "  <tbody>\n",
       "    <tr>\n",
       "      <th>0</th>\n",
       "      <td>14164603</td>\n",
       "      <td>11.40</td>\n",
       "      <td>2546</td>\n",
       "      <td>0.261719</td>\n",
       "      <td>176</td>\n",
       "      <td>61</td>\n",
       "      <td>0</td>\n",
       "      <td>19.55</td>\n",
       "      <td>NaN</td>\n",
       "      <td>1</td>\n",
       "      <td>2009</td>\n",
       "      <td>1</td>\n",
       "      <td>NaN</td>\n",
       "      <td>0.880000</td>\n",
       "      <td>0.265</td>\n",
       "      <td>0.964748</td>\n",
       "      <td>5.0</td>\n",
       "      <td>0.0</td>\n",
       "    </tr>\n",
       "    <tr>\n",
       "      <th>1</th>\n",
       "      <td>14164603</td>\n",
       "      <td>11.09</td>\n",
       "      <td>1773</td>\n",
       "      <td>0.433594</td>\n",
       "      <td>61</td>\n",
       "      <td>61</td>\n",
       "      <td>1</td>\n",
       "      <td>20.51</td>\n",
       "      <td>11.40</td>\n",
       "      <td>2</td>\n",
       "      <td>2010</td>\n",
       "      <td>1</td>\n",
       "      <td>NaN</td>\n",
       "      <td>NaN</td>\n",
       "      <td>NaN</td>\n",
       "      <td>NaN</td>\n",
       "      <td>NaN</td>\n",
       "      <td>NaN</td>\n",
       "    </tr>\n",
       "    <tr>\n",
       "      <th>2</th>\n",
       "      <td>14164603</td>\n",
       "      <td>11.23</td>\n",
       "      <td>3574</td>\n",
       "      <td>0.445312</td>\n",
       "      <td>61</td>\n",
       "      <td>61</td>\n",
       "      <td>1</td>\n",
       "      <td>20.53</td>\n",
       "      <td>11.09</td>\n",
       "      <td>3</td>\n",
       "      <td>2010</td>\n",
       "      <td>2</td>\n",
       "      <td>11.09</td>\n",
       "      <td>0.676667</td>\n",
       "      <td>0.690</td>\n",
       "      <td>0.975515</td>\n",
       "      <td>5.0</td>\n",
       "      <td>0.0</td>\n",
       "    </tr>\n",
       "    <tr>\n",
       "      <th>3</th>\n",
       "      <td>14164603</td>\n",
       "      <td>11.21</td>\n",
       "      <td>3574</td>\n",
       "      <td>0.324219</td>\n",
       "      <td>61</td>\n",
       "      <td>61</td>\n",
       "      <td>1</td>\n",
       "      <td>20.53</td>\n",
       "      <td>11.09</td>\n",
       "      <td>4</td>\n",
       "      <td>2010</td>\n",
       "      <td>3</td>\n",
       "      <td>11.09</td>\n",
       "      <td>0.676667</td>\n",
       "      <td>0.690</td>\n",
       "      <td>0.975515</td>\n",
       "      <td>5.0</td>\n",
       "      <td>0.0</td>\n",
       "    </tr>\n",
       "    <tr>\n",
       "      <th>4</th>\n",
       "      <td>14164603</td>\n",
       "      <td>10.93</td>\n",
       "      <td>3255</td>\n",
       "      <td>0.460938</td>\n",
       "      <td>64</td>\n",
       "      <td>61</td>\n",
       "      <td>0</td>\n",
       "      <td>21.42</td>\n",
       "      <td>11.09</td>\n",
       "      <td>5</td>\n",
       "      <td>2011</td>\n",
       "      <td>1</td>\n",
       "      <td>NaN</td>\n",
       "      <td>NaN</td>\n",
       "      <td>NaN</td>\n",
       "      <td>NaN</td>\n",
       "      <td>NaN</td>\n",
       "      <td>NaN</td>\n",
       "    </tr>\n",
       "    <tr>\n",
       "      <th>...</th>\n",
       "      <td>...</td>\n",
       "      <td>...</td>\n",
       "      <td>...</td>\n",
       "      <td>...</td>\n",
       "      <td>...</td>\n",
       "      <td>...</td>\n",
       "      <td>...</td>\n",
       "      <td>...</td>\n",
       "      <td>...</td>\n",
       "      <td>...</td>\n",
       "      <td>...</td>\n",
       "      <td>...</td>\n",
       "      <td>...</td>\n",
       "      <td>...</td>\n",
       "      <td>...</td>\n",
       "      <td>...</td>\n",
       "      <td>...</td>\n",
       "      <td>...</td>\n",
       "    </tr>\n",
       "    <tr>\n",
       "      <th>89995</th>\n",
       "      <td>14202176</td>\n",
       "      <td>10.30</td>\n",
       "      <td>2171</td>\n",
       "      <td>0.343750</td>\n",
       "      <td>71</td>\n",
       "      <td>98</td>\n",
       "      <td>0</td>\n",
       "      <td>19.68</td>\n",
       "      <td>10.21</td>\n",
       "      <td>18</td>\n",
       "      <td>2002</td>\n",
       "      <td>14</td>\n",
       "      <td>10.21</td>\n",
       "      <td>0.630000</td>\n",
       "      <td>0.680</td>\n",
       "      <td>0.970300</td>\n",
       "      <td>5.0</td>\n",
       "      <td>0.0</td>\n",
       "    </tr>\n",
       "    <tr>\n",
       "      <th>89996</th>\n",
       "      <td>14202176</td>\n",
       "      <td>10.26</td>\n",
       "      <td>2171</td>\n",
       "      <td>0.382812</td>\n",
       "      <td>71</td>\n",
       "      <td>98</td>\n",
       "      <td>0</td>\n",
       "      <td>19.69</td>\n",
       "      <td>10.21</td>\n",
       "      <td>19</td>\n",
       "      <td>2002</td>\n",
       "      <td>15</td>\n",
       "      <td>10.21</td>\n",
       "      <td>0.648333</td>\n",
       "      <td>0.640</td>\n",
       "      <td>0.969317</td>\n",
       "      <td>4.0</td>\n",
       "      <td>0.0</td>\n",
       "    </tr>\n",
       "    <tr>\n",
       "      <th>89997</th>\n",
       "      <td>14202176</td>\n",
       "      <td>10.33</td>\n",
       "      <td>221</td>\n",
       "      <td>0.398437</td>\n",
       "      <td>96</td>\n",
       "      <td>98</td>\n",
       "      <td>0</td>\n",
       "      <td>19.77</td>\n",
       "      <td>10.21</td>\n",
       "      <td>20</td>\n",
       "      <td>2002</td>\n",
       "      <td>16</td>\n",
       "      <td>10.21</td>\n",
       "      <td>0.676667</td>\n",
       "      <td>0.830</td>\n",
       "      <td>0.967032</td>\n",
       "      <td>4.0</td>\n",
       "      <td>0.0</td>\n",
       "    </tr>\n",
       "    <tr>\n",
       "      <th>89998</th>\n",
       "      <td>14202176</td>\n",
       "      <td>10.23</td>\n",
       "      <td>221</td>\n",
       "      <td>0.332031</td>\n",
       "      <td>96</td>\n",
       "      <td>98</td>\n",
       "      <td>0</td>\n",
       "      <td>19.77</td>\n",
       "      <td>10.21</td>\n",
       "      <td>21</td>\n",
       "      <td>2002</td>\n",
       "      <td>17</td>\n",
       "      <td>10.21</td>\n",
       "      <td>0.676667</td>\n",
       "      <td>0.830</td>\n",
       "      <td>0.967032</td>\n",
       "      <td>4.0</td>\n",
       "      <td>0.0</td>\n",
       "    </tr>\n",
       "    <tr>\n",
       "      <th>89999</th>\n",
       "      <td>14202176</td>\n",
       "      <td>10.12</td>\n",
       "      <td>3049</td>\n",
       "      <td>0.402344</td>\n",
       "      <td>96</td>\n",
       "      <td>98</td>\n",
       "      <td>0</td>\n",
       "      <td>19.78</td>\n",
       "      <td>10.21</td>\n",
       "      <td>22</td>\n",
       "      <td>2002</td>\n",
       "      <td>18</td>\n",
       "      <td>10.21</td>\n",
       "      <td>0.676667</td>\n",
       "      <td>0.780</td>\n",
       "      <td>0.966705</td>\n",
       "      <td>4.0</td>\n",
       "      <td>0.0</td>\n",
       "    </tr>\n",
       "  </tbody>\n",
       "</table>\n",
       "<p>89877 rows × 18 columns</p>\n",
       "</div>"
      ],
      "text/plain": [
       "          numer  wynik  City     wiatr  kraj_zawodow  kraj_urodz  czy_kraj  \\\n",
       "0      14164603  11.40  2546  0.261719           176          61         0   \n",
       "1      14164603  11.09  1773  0.433594            61          61         1   \n",
       "2      14164603  11.23  3574  0.445312            61          61         1   \n",
       "3      14164603  11.21  3574  0.324219            61          61         1   \n",
       "4      14164603  10.93  3255  0.460938            64          61         0   \n",
       "...         ...    ...   ...       ...           ...         ...       ...   \n",
       "89995  14202176  10.30  2171  0.343750            71          98         0   \n",
       "89996  14202176  10.26  2171  0.382812            71          98         0   \n",
       "89997  14202176  10.33   221  0.398437            96          98         0   \n",
       "89998  14202176  10.23   221  0.332031            96          98         0   \n",
       "89999  14202176  10.12  3049  0.402344            96          98         0   \n",
       "\n",
       "        wiek  pb_aktualne  nr_start_kariera   rok  nr_start_sezon  \\\n",
       "0      19.55          NaN                 1  2009               1   \n",
       "1      20.51        11.40                 2  2010               1   \n",
       "2      20.53        11.09                 3  2010               2   \n",
       "3      20.53        11.09                 4  2010               3   \n",
       "4      21.42        11.09                 5  2011               1   \n",
       "...      ...          ...               ...   ...             ...   \n",
       "89995  19.68        10.21                18  2002              14   \n",
       "89996  19.69        10.21                19  2002              15   \n",
       "89997  19.77        10.21                20  2002              16   \n",
       "89998  19.77        10.21                21  2002              17   \n",
       "89999  19.78        10.21                22  2002              18   \n",
       "\n",
       "       sb_aktualne  Temperature  Humidity  Pressure  Condition  Rain  \n",
       "0              NaN     0.880000     0.265  0.964748        5.0   0.0  \n",
       "1              NaN          NaN       NaN       NaN        NaN   NaN  \n",
       "2            11.09     0.676667     0.690  0.975515        5.0   0.0  \n",
       "3            11.09     0.676667     0.690  0.975515        5.0   0.0  \n",
       "4              NaN          NaN       NaN       NaN        NaN   NaN  \n",
       "...            ...          ...       ...       ...        ...   ...  \n",
       "89995        10.21     0.630000     0.680  0.970300        5.0   0.0  \n",
       "89996        10.21     0.648333     0.640  0.969317        4.0   0.0  \n",
       "89997        10.21     0.676667     0.830  0.967032        4.0   0.0  \n",
       "89998        10.21     0.676667     0.830  0.967032        4.0   0.0  \n",
       "89999        10.21     0.676667     0.780  0.966705        4.0   0.0  \n",
       "\n",
       "[89877 rows x 18 columns]"
      ]
     },
     "execution_count": 8,
     "metadata": {},
     "output_type": "execute_result"
    }
   ],
   "source": [
    "results2 = results2[results2.wynik < 12]   #usuniecie wartosci odstajacych\n",
    "results2"
   ]
  },
  {
   "cell_type": "code",
   "execution_count": null,
   "id": "62f75454",
   "metadata": {},
   "outputs": [],
   "source": []
  },
  {
   "cell_type": "code",
   "execution_count": 9,
   "id": "171d225d",
   "metadata": {},
   "outputs": [
    {
     "name": "stdout",
     "output_type": "stream",
     "text": [
      "wiatr 85505.0\n",
      "wiek 89585.0\n",
      "pb_aktualne 87803.0\n",
      "sb_aktualne 74804.0\n",
      "Temperature 51401.0\n",
      "Humidity 51401.0\n",
      "Pressure 51401.0\n",
      "Condition 50952.0\n",
      "Rain 50952.0\n"
     ]
    }
   ],
   "source": [
    "kol_nan = []\n",
    "for k in results2.columns:\n",
    "    if results2.describe()[k]['count'] < len(results2):\n",
    "        print(k, results2.describe()[k]['count'])\n",
    "        kol_nan.append(k)"
   ]
  },
  {
   "cell_type": "code",
   "execution_count": 10,
   "id": "70926d6a",
   "metadata": {},
   "outputs": [
    {
     "data": {
      "text/html": [
       "<div>\n",
       "<style scoped>\n",
       "    .dataframe tbody tr th:only-of-type {\n",
       "        vertical-align: middle;\n",
       "    }\n",
       "\n",
       "    .dataframe tbody tr th {\n",
       "        vertical-align: top;\n",
       "    }\n",
       "\n",
       "    .dataframe thead th {\n",
       "        text-align: right;\n",
       "    }\n",
       "</style>\n",
       "<table border=\"1\" class=\"dataframe\">\n",
       "  <thead>\n",
       "    <tr style=\"text-align: right;\">\n",
       "      <th></th>\n",
       "      <th>numer</th>\n",
       "      <th>wynik</th>\n",
       "      <th>City</th>\n",
       "      <th>wiatr</th>\n",
       "      <th>kraj_zawodow</th>\n",
       "      <th>kraj_urodz</th>\n",
       "      <th>czy_kraj</th>\n",
       "      <th>wiek</th>\n",
       "      <th>pb_aktualne</th>\n",
       "      <th>nr_start_kariera</th>\n",
       "      <th>rok</th>\n",
       "      <th>nr_start_sezon</th>\n",
       "      <th>sb_aktualne</th>\n",
       "      <th>Temperature</th>\n",
       "      <th>Humidity</th>\n",
       "      <th>Pressure</th>\n",
       "      <th>Condition</th>\n",
       "      <th>Rain</th>\n",
       "    </tr>\n",
       "  </thead>\n",
       "  <tbody>\n",
       "    <tr>\n",
       "      <th>2</th>\n",
       "      <td>14164603</td>\n",
       "      <td>11.23</td>\n",
       "      <td>3574</td>\n",
       "      <td>0.445312</td>\n",
       "      <td>61</td>\n",
       "      <td>61</td>\n",
       "      <td>1</td>\n",
       "      <td>20.53</td>\n",
       "      <td>11.09</td>\n",
       "      <td>3</td>\n",
       "      <td>2010</td>\n",
       "      <td>2</td>\n",
       "      <td>11.09</td>\n",
       "      <td>0.676667</td>\n",
       "      <td>0.69</td>\n",
       "      <td>0.975515</td>\n",
       "      <td>5.0</td>\n",
       "      <td>0.0</td>\n",
       "    </tr>\n",
       "    <tr>\n",
       "      <th>3</th>\n",
       "      <td>14164603</td>\n",
       "      <td>11.21</td>\n",
       "      <td>3574</td>\n",
       "      <td>0.324219</td>\n",
       "      <td>61</td>\n",
       "      <td>61</td>\n",
       "      <td>1</td>\n",
       "      <td>20.53</td>\n",
       "      <td>11.09</td>\n",
       "      <td>4</td>\n",
       "      <td>2010</td>\n",
       "      <td>3</td>\n",
       "      <td>11.09</td>\n",
       "      <td>0.676667</td>\n",
       "      <td>0.69</td>\n",
       "      <td>0.975515</td>\n",
       "      <td>5.0</td>\n",
       "      <td>0.0</td>\n",
       "    </tr>\n",
       "    <tr>\n",
       "      <th>12</th>\n",
       "      <td>14164603</td>\n",
       "      <td>10.91</td>\n",
       "      <td>3574</td>\n",
       "      <td>0.476562</td>\n",
       "      <td>61</td>\n",
       "      <td>61</td>\n",
       "      <td>1</td>\n",
       "      <td>22.62</td>\n",
       "      <td>10.82</td>\n",
       "      <td>13</td>\n",
       "      <td>2012</td>\n",
       "      <td>4</td>\n",
       "      <td>10.82</td>\n",
       "      <td>0.630000</td>\n",
       "      <td>0.68</td>\n",
       "      <td>0.974542</td>\n",
       "      <td>5.0</td>\n",
       "      <td>0.0</td>\n",
       "    </tr>\n",
       "    <tr>\n",
       "      <th>13</th>\n",
       "      <td>14164603</td>\n",
       "      <td>10.91</td>\n",
       "      <td>3574</td>\n",
       "      <td>0.472656</td>\n",
       "      <td>61</td>\n",
       "      <td>61</td>\n",
       "      <td>1</td>\n",
       "      <td>22.62</td>\n",
       "      <td>10.82</td>\n",
       "      <td>14</td>\n",
       "      <td>2012</td>\n",
       "      <td>5</td>\n",
       "      <td>10.82</td>\n",
       "      <td>0.630000</td>\n",
       "      <td>0.68</td>\n",
       "      <td>0.974542</td>\n",
       "      <td>5.0</td>\n",
       "      <td>0.0</td>\n",
       "    </tr>\n",
       "    <tr>\n",
       "      <th>18</th>\n",
       "      <td>14164603</td>\n",
       "      <td>11.16</td>\n",
       "      <td>3574</td>\n",
       "      <td>0.253906</td>\n",
       "      <td>61</td>\n",
       "      <td>61</td>\n",
       "      <td>1</td>\n",
       "      <td>24.58</td>\n",
       "      <td>10.82</td>\n",
       "      <td>19</td>\n",
       "      <td>2014</td>\n",
       "      <td>3</td>\n",
       "      <td>11.18</td>\n",
       "      <td>0.695000</td>\n",
       "      <td>0.61</td>\n",
       "      <td>0.978455</td>\n",
       "      <td>5.0</td>\n",
       "      <td>0.0</td>\n",
       "    </tr>\n",
       "    <tr>\n",
       "      <th>...</th>\n",
       "      <td>...</td>\n",
       "      <td>...</td>\n",
       "      <td>...</td>\n",
       "      <td>...</td>\n",
       "      <td>...</td>\n",
       "      <td>...</td>\n",
       "      <td>...</td>\n",
       "      <td>...</td>\n",
       "      <td>...</td>\n",
       "      <td>...</td>\n",
       "      <td>...</td>\n",
       "      <td>...</td>\n",
       "      <td>...</td>\n",
       "      <td>...</td>\n",
       "      <td>...</td>\n",
       "      <td>...</td>\n",
       "      <td>...</td>\n",
       "      <td>...</td>\n",
       "    </tr>\n",
       "    <tr>\n",
       "      <th>89995</th>\n",
       "      <td>14202176</td>\n",
       "      <td>10.30</td>\n",
       "      <td>2171</td>\n",
       "      <td>0.343750</td>\n",
       "      <td>71</td>\n",
       "      <td>98</td>\n",
       "      <td>0</td>\n",
       "      <td>19.68</td>\n",
       "      <td>10.21</td>\n",
       "      <td>18</td>\n",
       "      <td>2002</td>\n",
       "      <td>14</td>\n",
       "      <td>10.21</td>\n",
       "      <td>0.630000</td>\n",
       "      <td>0.68</td>\n",
       "      <td>0.970300</td>\n",
       "      <td>5.0</td>\n",
       "      <td>0.0</td>\n",
       "    </tr>\n",
       "    <tr>\n",
       "      <th>89996</th>\n",
       "      <td>14202176</td>\n",
       "      <td>10.26</td>\n",
       "      <td>2171</td>\n",
       "      <td>0.382812</td>\n",
       "      <td>71</td>\n",
       "      <td>98</td>\n",
       "      <td>0</td>\n",
       "      <td>19.69</td>\n",
       "      <td>10.21</td>\n",
       "      <td>19</td>\n",
       "      <td>2002</td>\n",
       "      <td>15</td>\n",
       "      <td>10.21</td>\n",
       "      <td>0.648333</td>\n",
       "      <td>0.64</td>\n",
       "      <td>0.969317</td>\n",
       "      <td>4.0</td>\n",
       "      <td>0.0</td>\n",
       "    </tr>\n",
       "    <tr>\n",
       "      <th>89997</th>\n",
       "      <td>14202176</td>\n",
       "      <td>10.33</td>\n",
       "      <td>221</td>\n",
       "      <td>0.398437</td>\n",
       "      <td>96</td>\n",
       "      <td>98</td>\n",
       "      <td>0</td>\n",
       "      <td>19.77</td>\n",
       "      <td>10.21</td>\n",
       "      <td>20</td>\n",
       "      <td>2002</td>\n",
       "      <td>16</td>\n",
       "      <td>10.21</td>\n",
       "      <td>0.676667</td>\n",
       "      <td>0.83</td>\n",
       "      <td>0.967032</td>\n",
       "      <td>4.0</td>\n",
       "      <td>0.0</td>\n",
       "    </tr>\n",
       "    <tr>\n",
       "      <th>89998</th>\n",
       "      <td>14202176</td>\n",
       "      <td>10.23</td>\n",
       "      <td>221</td>\n",
       "      <td>0.332031</td>\n",
       "      <td>96</td>\n",
       "      <td>98</td>\n",
       "      <td>0</td>\n",
       "      <td>19.77</td>\n",
       "      <td>10.21</td>\n",
       "      <td>21</td>\n",
       "      <td>2002</td>\n",
       "      <td>17</td>\n",
       "      <td>10.21</td>\n",
       "      <td>0.676667</td>\n",
       "      <td>0.83</td>\n",
       "      <td>0.967032</td>\n",
       "      <td>4.0</td>\n",
       "      <td>0.0</td>\n",
       "    </tr>\n",
       "    <tr>\n",
       "      <th>89999</th>\n",
       "      <td>14202176</td>\n",
       "      <td>10.12</td>\n",
       "      <td>3049</td>\n",
       "      <td>0.402344</td>\n",
       "      <td>96</td>\n",
       "      <td>98</td>\n",
       "      <td>0</td>\n",
       "      <td>19.78</td>\n",
       "      <td>10.21</td>\n",
       "      <td>22</td>\n",
       "      <td>2002</td>\n",
       "      <td>18</td>\n",
       "      <td>10.21</td>\n",
       "      <td>0.676667</td>\n",
       "      <td>0.78</td>\n",
       "      <td>0.966705</td>\n",
       "      <td>4.0</td>\n",
       "      <td>0.0</td>\n",
       "    </tr>\n",
       "  </tbody>\n",
       "</table>\n",
       "<p>41851 rows × 18 columns</p>\n",
       "</div>"
      ],
      "text/plain": [
       "          numer  wynik  City     wiatr  kraj_zawodow  kraj_urodz  czy_kraj  \\\n",
       "2      14164603  11.23  3574  0.445312            61          61         1   \n",
       "3      14164603  11.21  3574  0.324219            61          61         1   \n",
       "12     14164603  10.91  3574  0.476562            61          61         1   \n",
       "13     14164603  10.91  3574  0.472656            61          61         1   \n",
       "18     14164603  11.16  3574  0.253906            61          61         1   \n",
       "...         ...    ...   ...       ...           ...         ...       ...   \n",
       "89995  14202176  10.30  2171  0.343750            71          98         0   \n",
       "89996  14202176  10.26  2171  0.382812            71          98         0   \n",
       "89997  14202176  10.33   221  0.398437            96          98         0   \n",
       "89998  14202176  10.23   221  0.332031            96          98         0   \n",
       "89999  14202176  10.12  3049  0.402344            96          98         0   \n",
       "\n",
       "        wiek  pb_aktualne  nr_start_kariera   rok  nr_start_sezon  \\\n",
       "2      20.53        11.09                 3  2010               2   \n",
       "3      20.53        11.09                 4  2010               3   \n",
       "12     22.62        10.82                13  2012               4   \n",
       "13     22.62        10.82                14  2012               5   \n",
       "18     24.58        10.82                19  2014               3   \n",
       "...      ...          ...               ...   ...             ...   \n",
       "89995  19.68        10.21                18  2002              14   \n",
       "89996  19.69        10.21                19  2002              15   \n",
       "89997  19.77        10.21                20  2002              16   \n",
       "89998  19.77        10.21                21  2002              17   \n",
       "89999  19.78        10.21                22  2002              18   \n",
       "\n",
       "       sb_aktualne  Temperature  Humidity  Pressure  Condition  Rain  \n",
       "2            11.09     0.676667      0.69  0.975515        5.0   0.0  \n",
       "3            11.09     0.676667      0.69  0.975515        5.0   0.0  \n",
       "12           10.82     0.630000      0.68  0.974542        5.0   0.0  \n",
       "13           10.82     0.630000      0.68  0.974542        5.0   0.0  \n",
       "18           11.18     0.695000      0.61  0.978455        5.0   0.0  \n",
       "...            ...          ...       ...       ...        ...   ...  \n",
       "89995        10.21     0.630000      0.68  0.970300        5.0   0.0  \n",
       "89996        10.21     0.648333      0.64  0.969317        4.0   0.0  \n",
       "89997        10.21     0.676667      0.83  0.967032        4.0   0.0  \n",
       "89998        10.21     0.676667      0.83  0.967032        4.0   0.0  \n",
       "89999        10.21     0.676667      0.78  0.966705        4.0   0.0  \n",
       "\n",
       "[41851 rows x 18 columns]"
      ]
     },
     "execution_count": 10,
     "metadata": {},
     "output_type": "execute_result"
    }
   ],
   "source": [
    "for k in kol_nan:\n",
    "    results2 = results2[results2[k].isna()==False]\n",
    "results2"
   ]
  },
  {
   "cell_type": "code",
   "execution_count": 11,
   "id": "56dd27c3",
   "metadata": {},
   "outputs": [],
   "source": [
    "wynik2 = results2['wynik']"
   ]
  },
  {
   "cell_type": "code",
   "execution_count": 12,
   "id": "03f11ecd",
   "metadata": {},
   "outputs": [
    {
     "data": {
      "text/html": [
       "<div>\n",
       "<style scoped>\n",
       "    .dataframe tbody tr th:only-of-type {\n",
       "        vertical-align: middle;\n",
       "    }\n",
       "\n",
       "    .dataframe tbody tr th {\n",
       "        vertical-align: top;\n",
       "    }\n",
       "\n",
       "    .dataframe thead th {\n",
       "        text-align: right;\n",
       "    }\n",
       "</style>\n",
       "<table border=\"1\" class=\"dataframe\">\n",
       "  <thead>\n",
       "    <tr style=\"text-align: right;\">\n",
       "      <th></th>\n",
       "      <th>numer</th>\n",
       "      <th>City</th>\n",
       "      <th>wiatr</th>\n",
       "      <th>kraj_zawodow</th>\n",
       "      <th>kraj_urodz</th>\n",
       "      <th>czy_kraj</th>\n",
       "      <th>wiek</th>\n",
       "      <th>pb_aktualne</th>\n",
       "      <th>nr_start_kariera</th>\n",
       "      <th>rok</th>\n",
       "      <th>nr_start_sezon</th>\n",
       "      <th>sb_aktualne</th>\n",
       "      <th>Temperature</th>\n",
       "      <th>Humidity</th>\n",
       "      <th>Pressure</th>\n",
       "      <th>Condition</th>\n",
       "      <th>Rain</th>\n",
       "    </tr>\n",
       "  </thead>\n",
       "  <tbody>\n",
       "    <tr>\n",
       "      <th>2</th>\n",
       "      <td>14164603</td>\n",
       "      <td>3574</td>\n",
       "      <td>0.445312</td>\n",
       "      <td>61</td>\n",
       "      <td>61</td>\n",
       "      <td>1</td>\n",
       "      <td>20.53</td>\n",
       "      <td>11.09</td>\n",
       "      <td>3</td>\n",
       "      <td>2010</td>\n",
       "      <td>2</td>\n",
       "      <td>11.09</td>\n",
       "      <td>0.676667</td>\n",
       "      <td>0.69</td>\n",
       "      <td>0.975515</td>\n",
       "      <td>5.0</td>\n",
       "      <td>0.0</td>\n",
       "    </tr>\n",
       "    <tr>\n",
       "      <th>3</th>\n",
       "      <td>14164603</td>\n",
       "      <td>3574</td>\n",
       "      <td>0.324219</td>\n",
       "      <td>61</td>\n",
       "      <td>61</td>\n",
       "      <td>1</td>\n",
       "      <td>20.53</td>\n",
       "      <td>11.09</td>\n",
       "      <td>4</td>\n",
       "      <td>2010</td>\n",
       "      <td>3</td>\n",
       "      <td>11.09</td>\n",
       "      <td>0.676667</td>\n",
       "      <td>0.69</td>\n",
       "      <td>0.975515</td>\n",
       "      <td>5.0</td>\n",
       "      <td>0.0</td>\n",
       "    </tr>\n",
       "    <tr>\n",
       "      <th>12</th>\n",
       "      <td>14164603</td>\n",
       "      <td>3574</td>\n",
       "      <td>0.476562</td>\n",
       "      <td>61</td>\n",
       "      <td>61</td>\n",
       "      <td>1</td>\n",
       "      <td>22.62</td>\n",
       "      <td>10.82</td>\n",
       "      <td>13</td>\n",
       "      <td>2012</td>\n",
       "      <td>4</td>\n",
       "      <td>10.82</td>\n",
       "      <td>0.630000</td>\n",
       "      <td>0.68</td>\n",
       "      <td>0.974542</td>\n",
       "      <td>5.0</td>\n",
       "      <td>0.0</td>\n",
       "    </tr>\n",
       "    <tr>\n",
       "      <th>13</th>\n",
       "      <td>14164603</td>\n",
       "      <td>3574</td>\n",
       "      <td>0.472656</td>\n",
       "      <td>61</td>\n",
       "      <td>61</td>\n",
       "      <td>1</td>\n",
       "      <td>22.62</td>\n",
       "      <td>10.82</td>\n",
       "      <td>14</td>\n",
       "      <td>2012</td>\n",
       "      <td>5</td>\n",
       "      <td>10.82</td>\n",
       "      <td>0.630000</td>\n",
       "      <td>0.68</td>\n",
       "      <td>0.974542</td>\n",
       "      <td>5.0</td>\n",
       "      <td>0.0</td>\n",
       "    </tr>\n",
       "    <tr>\n",
       "      <th>18</th>\n",
       "      <td>14164603</td>\n",
       "      <td>3574</td>\n",
       "      <td>0.253906</td>\n",
       "      <td>61</td>\n",
       "      <td>61</td>\n",
       "      <td>1</td>\n",
       "      <td>24.58</td>\n",
       "      <td>10.82</td>\n",
       "      <td>19</td>\n",
       "      <td>2014</td>\n",
       "      <td>3</td>\n",
       "      <td>11.18</td>\n",
       "      <td>0.695000</td>\n",
       "      <td>0.61</td>\n",
       "      <td>0.978455</td>\n",
       "      <td>5.0</td>\n",
       "      <td>0.0</td>\n",
       "    </tr>\n",
       "    <tr>\n",
       "      <th>...</th>\n",
       "      <td>...</td>\n",
       "      <td>...</td>\n",
       "      <td>...</td>\n",
       "      <td>...</td>\n",
       "      <td>...</td>\n",
       "      <td>...</td>\n",
       "      <td>...</td>\n",
       "      <td>...</td>\n",
       "      <td>...</td>\n",
       "      <td>...</td>\n",
       "      <td>...</td>\n",
       "      <td>...</td>\n",
       "      <td>...</td>\n",
       "      <td>...</td>\n",
       "      <td>...</td>\n",
       "      <td>...</td>\n",
       "      <td>...</td>\n",
       "    </tr>\n",
       "    <tr>\n",
       "      <th>89995</th>\n",
       "      <td>14202176</td>\n",
       "      <td>2171</td>\n",
       "      <td>0.343750</td>\n",
       "      <td>71</td>\n",
       "      <td>98</td>\n",
       "      <td>0</td>\n",
       "      <td>19.68</td>\n",
       "      <td>10.21</td>\n",
       "      <td>18</td>\n",
       "      <td>2002</td>\n",
       "      <td>14</td>\n",
       "      <td>10.21</td>\n",
       "      <td>0.630000</td>\n",
       "      <td>0.68</td>\n",
       "      <td>0.970300</td>\n",
       "      <td>5.0</td>\n",
       "      <td>0.0</td>\n",
       "    </tr>\n",
       "    <tr>\n",
       "      <th>89996</th>\n",
       "      <td>14202176</td>\n",
       "      <td>2171</td>\n",
       "      <td>0.382812</td>\n",
       "      <td>71</td>\n",
       "      <td>98</td>\n",
       "      <td>0</td>\n",
       "      <td>19.69</td>\n",
       "      <td>10.21</td>\n",
       "      <td>19</td>\n",
       "      <td>2002</td>\n",
       "      <td>15</td>\n",
       "      <td>10.21</td>\n",
       "      <td>0.648333</td>\n",
       "      <td>0.64</td>\n",
       "      <td>0.969317</td>\n",
       "      <td>4.0</td>\n",
       "      <td>0.0</td>\n",
       "    </tr>\n",
       "    <tr>\n",
       "      <th>89997</th>\n",
       "      <td>14202176</td>\n",
       "      <td>221</td>\n",
       "      <td>0.398437</td>\n",
       "      <td>96</td>\n",
       "      <td>98</td>\n",
       "      <td>0</td>\n",
       "      <td>19.77</td>\n",
       "      <td>10.21</td>\n",
       "      <td>20</td>\n",
       "      <td>2002</td>\n",
       "      <td>16</td>\n",
       "      <td>10.21</td>\n",
       "      <td>0.676667</td>\n",
       "      <td>0.83</td>\n",
       "      <td>0.967032</td>\n",
       "      <td>4.0</td>\n",
       "      <td>0.0</td>\n",
       "    </tr>\n",
       "    <tr>\n",
       "      <th>89998</th>\n",
       "      <td>14202176</td>\n",
       "      <td>221</td>\n",
       "      <td>0.332031</td>\n",
       "      <td>96</td>\n",
       "      <td>98</td>\n",
       "      <td>0</td>\n",
       "      <td>19.77</td>\n",
       "      <td>10.21</td>\n",
       "      <td>21</td>\n",
       "      <td>2002</td>\n",
       "      <td>17</td>\n",
       "      <td>10.21</td>\n",
       "      <td>0.676667</td>\n",
       "      <td>0.83</td>\n",
       "      <td>0.967032</td>\n",
       "      <td>4.0</td>\n",
       "      <td>0.0</td>\n",
       "    </tr>\n",
       "    <tr>\n",
       "      <th>89999</th>\n",
       "      <td>14202176</td>\n",
       "      <td>3049</td>\n",
       "      <td>0.402344</td>\n",
       "      <td>96</td>\n",
       "      <td>98</td>\n",
       "      <td>0</td>\n",
       "      <td>19.78</td>\n",
       "      <td>10.21</td>\n",
       "      <td>22</td>\n",
       "      <td>2002</td>\n",
       "      <td>18</td>\n",
       "      <td>10.21</td>\n",
       "      <td>0.676667</td>\n",
       "      <td>0.78</td>\n",
       "      <td>0.966705</td>\n",
       "      <td>4.0</td>\n",
       "      <td>0.0</td>\n",
       "    </tr>\n",
       "  </tbody>\n",
       "</table>\n",
       "<p>41851 rows × 17 columns</p>\n",
       "</div>"
      ],
      "text/plain": [
       "          numer  City     wiatr  kraj_zawodow  kraj_urodz  czy_kraj   wiek  \\\n",
       "2      14164603  3574  0.445312            61          61         1  20.53   \n",
       "3      14164603  3574  0.324219            61          61         1  20.53   \n",
       "12     14164603  3574  0.476562            61          61         1  22.62   \n",
       "13     14164603  3574  0.472656            61          61         1  22.62   \n",
       "18     14164603  3574  0.253906            61          61         1  24.58   \n",
       "...         ...   ...       ...           ...         ...       ...    ...   \n",
       "89995  14202176  2171  0.343750            71          98         0  19.68   \n",
       "89996  14202176  2171  0.382812            71          98         0  19.69   \n",
       "89997  14202176   221  0.398437            96          98         0  19.77   \n",
       "89998  14202176   221  0.332031            96          98         0  19.77   \n",
       "89999  14202176  3049  0.402344            96          98         0  19.78   \n",
       "\n",
       "       pb_aktualne  nr_start_kariera   rok  nr_start_sezon  sb_aktualne  \\\n",
       "2            11.09                 3  2010               2        11.09   \n",
       "3            11.09                 4  2010               3        11.09   \n",
       "12           10.82                13  2012               4        10.82   \n",
       "13           10.82                14  2012               5        10.82   \n",
       "18           10.82                19  2014               3        11.18   \n",
       "...            ...               ...   ...             ...          ...   \n",
       "89995        10.21                18  2002              14        10.21   \n",
       "89996        10.21                19  2002              15        10.21   \n",
       "89997        10.21                20  2002              16        10.21   \n",
       "89998        10.21                21  2002              17        10.21   \n",
       "89999        10.21                22  2002              18        10.21   \n",
       "\n",
       "       Temperature  Humidity  Pressure  Condition  Rain  \n",
       "2         0.676667      0.69  0.975515        5.0   0.0  \n",
       "3         0.676667      0.69  0.975515        5.0   0.0  \n",
       "12        0.630000      0.68  0.974542        5.0   0.0  \n",
       "13        0.630000      0.68  0.974542        5.0   0.0  \n",
       "18        0.695000      0.61  0.978455        5.0   0.0  \n",
       "...            ...       ...       ...        ...   ...  \n",
       "89995     0.630000      0.68  0.970300        5.0   0.0  \n",
       "89996     0.648333      0.64  0.969317        4.0   0.0  \n",
       "89997     0.676667      0.83  0.967032        4.0   0.0  \n",
       "89998     0.676667      0.83  0.967032        4.0   0.0  \n",
       "89999     0.676667      0.78  0.966705        4.0   0.0  \n",
       "\n",
       "[41851 rows x 17 columns]"
      ]
     },
     "execution_count": 12,
     "metadata": {},
     "output_type": "execute_result"
    }
   ],
   "source": [
    "results2 = results2.drop(['wynik'], axis = 1)\n",
    "results2"
   ]
  },
  {
   "cell_type": "code",
   "execution_count": null,
   "id": "52975bc6",
   "metadata": {},
   "outputs": [],
   "source": []
  },
  {
   "cell_type": "code",
   "execution_count": null,
   "id": "a5dff336",
   "metadata": {},
   "outputs": [],
   "source": []
  },
  {
   "cell_type": "code",
   "execution_count": 13,
   "id": "bdfe683d",
   "metadata": {},
   "outputs": [],
   "source": [
    "x = torch.tensor(results2.values, dtype=torch.float)"
   ]
  },
  {
   "cell_type": "code",
   "execution_count": 14,
   "id": "62651bbb",
   "metadata": {},
   "outputs": [],
   "source": [
    "y = torch.tensor(wynik2.values, dtype=torch.float)"
   ]
  },
  {
   "cell_type": "code",
   "execution_count": 15,
   "id": "a568ebcc",
   "metadata": {
    "scrolled": true
   },
   "outputs": [
    {
     "data": {
      "text/plain": [
       "tensor([[1.4165e+07, 3.5740e+03, 4.4531e-01, 6.1000e+01, 6.1000e+01, 1.0000e+00,\n",
       "         2.0530e+01, 1.1090e+01, 3.0000e+00, 2.0100e+03, 2.0000e+00, 1.1090e+01,\n",
       "         6.7667e-01, 6.9000e-01, 9.7552e-01, 5.0000e+00, 0.0000e+00],\n",
       "        [1.4165e+07, 3.5740e+03, 3.2422e-01, 6.1000e+01, 6.1000e+01, 1.0000e+00,\n",
       "         2.0530e+01, 1.1090e+01, 4.0000e+00, 2.0100e+03, 3.0000e+00, 1.1090e+01,\n",
       "         6.7667e-01, 6.9000e-01, 9.7552e-01, 5.0000e+00, 0.0000e+00],\n",
       "        [1.4165e+07, 3.5740e+03, 4.7656e-01, 6.1000e+01, 6.1000e+01, 1.0000e+00,\n",
       "         2.2620e+01, 1.0820e+01, 1.3000e+01, 2.0120e+03, 4.0000e+00, 1.0820e+01,\n",
       "         6.3000e-01, 6.8000e-01, 9.7454e-01, 5.0000e+00, 0.0000e+00],\n",
       "        [1.4165e+07, 3.5740e+03, 4.7266e-01, 6.1000e+01, 6.1000e+01, 1.0000e+00,\n",
       "         2.2620e+01, 1.0820e+01, 1.4000e+01, 2.0120e+03, 5.0000e+00, 1.0820e+01,\n",
       "         6.3000e-01, 6.8000e-01, 9.7454e-01, 5.0000e+00, 0.0000e+00],\n",
       "        [1.4165e+07, 3.5740e+03, 2.5391e-01, 6.1000e+01, 6.1000e+01, 1.0000e+00,\n",
       "         2.4580e+01, 1.0820e+01, 1.9000e+01, 2.0140e+03, 3.0000e+00, 1.1180e+01,\n",
       "         6.9500e-01, 6.1000e-01, 9.7846e-01, 5.0000e+00, 0.0000e+00]])"
      ]
     },
     "execution_count": 15,
     "metadata": {},
     "output_type": "execute_result"
    }
   ],
   "source": [
    "x[:5]"
   ]
  },
  {
   "cell_type": "code",
   "execution_count": 16,
   "id": "366d15c9",
   "metadata": {},
   "outputs": [
    {
     "data": {
      "text/plain": [
       "tensor([11.2300, 11.2100, 10.9100, 10.9100, 11.1600])"
      ]
     },
     "execution_count": 16,
     "metadata": {},
     "output_type": "execute_result"
    }
   ],
   "source": [
    "y[:5]"
   ]
  },
  {
   "cell_type": "code",
   "execution_count": 17,
   "id": "7eb34e35",
   "metadata": {},
   "outputs": [],
   "source": [
    "import torch.optim as optim"
   ]
  },
  {
   "cell_type": "code",
   "execution_count": 18,
   "id": "aaaff124",
   "metadata": {},
   "outputs": [
    {
     "data": {
      "text/plain": [
       "Sequential(\n",
       "  (0): Linear(in_features=17, out_features=20, bias=True)\n",
       "  (1): ReLU()\n",
       "  (2): Linear(in_features=20, out_features=100, bias=True)\n",
       "  (3): Sigmoid()\n",
       "  (4): Linear(in_features=100, out_features=3, bias=True)\n",
       ")"
      ]
     },
     "execution_count": 18,
     "metadata": {},
     "output_type": "execute_result"
    }
   ],
   "source": [
    "model = nn.Sequential(\n",
    "        nn.Linear(17, 20),\n",
    "        nn.ReLU(),\n",
    "        nn.Linear(20,100),\n",
    "        nn.Sigmoid(),\n",
    "        nn.Linear(100,3)\n",
    "    )\n",
    "model.to()"
   ]
  },
  {
   "cell_type": "code",
   "execution_count": 19,
   "id": "ac2c0e14",
   "metadata": {},
   "outputs": [],
   "source": [
    "criterion = torch.nn.MSELoss()  #zmienic kryterium\n",
    "optimizer = optim.SGD(model.parameters(), lr = 0.00975)#, momentum = 0.9)   #lr - learning rate\n",
    "\n",
    "#lr - zacznie mniejszy np. 10^-3\n",
    "#0.0095 ->78%"
   ]
  },
  {
   "cell_type": "code",
   "execution_count": 20,
   "id": "e1874318",
   "metadata": {
    "scrolled": true
   },
   "outputs": [
    {
     "name": "stderr",
     "output_type": "stream",
     "text": [
      "c:\\Users\\marci\\.julia\\conda\\3\\lib\\site-packages\\torch\\nn\\modules\\loss.py:536: UserWarning: Using a target size (torch.Size([])) that is different to the input size (torch.Size([3])). This will likely lead to incorrect results due to broadcasting. Please ensure they have the same size.\n",
      "  return F.mse_loss(input, target, reduction=self.reduction)\n"
     ]
    },
    {
     "name": "stdout",
     "output_type": "stream",
     "text": [
      "Total loss:  1556.2337141958874\n",
      "Total loss:  1556.2337141958874\n",
      "Total loss:  1347.882280014735\n",
      "Total loss:  1347.8823042981671\n",
      "Total loss:  1347.88237633736\n",
      "Total loss:  1347.8823504395662\n"
     ]
    }
   ],
   "source": [
    "epochs=50\n",
    "losses=[]\n",
    "for epoch in range(epochs):\n",
    "    totalLoss = 0\n",
    "    pred_wart = []\n",
    "    y_copy=[]\n",
    "    for i in range(len(x)):\n",
    "        ypred = model(x[i])\n",
    "        pred_wart.append(ypred)\n",
    "        y_copy.append(y[i])\n",
    "        loss = criterion(ypred, y[i])\n",
    "        totalLoss+=loss.item()\n",
    "        optimizer.zero_grad()\n",
    "        loss.backward()\n",
    "        optimizer.step()\n",
    "    losses.append(totalLoss)\n",
    "    print('Total loss: ', totalLoss)\n",
    "    if epoch%50==0 or epoch==0:\n",
    "        print('Total loss: ', totalLoss)"
   ]
  },
  {
   "cell_type": "code",
   "execution_count": 21,
   "id": "c18cfd26",
   "metadata": {},
   "outputs": [
    {
     "name": "stdout",
     "output_type": "stream",
     "text": [
      "0.7808176626603904\n",
      "sredni blad: 0.13427208715896732\n"
     ]
    }
   ],
   "source": [
    "#sprawdzenie ile predykcji jest mniejszych od danego bledu\n",
    "good = 0\n",
    "wart = []\n",
    "predyk = []\n",
    "suma = 0\n",
    "for i in range(len(y)):\n",
    "    wart.append(y[i].item())\n",
    "    predyk.append(pred_wart[i][2].item())\n",
    "    suma += abs(y[i].item() - pred_wart[i][2].item())\n",
    "    if abs(y[i].item() - pred_wart[i][2].item()) < 0.2:\n",
    "        good += 1\n",
    "print(good/len(y))\n",
    "\n",
    "print('sredni blad:', suma/len(y)) #Mean Absolute Error\n",
    "#<0.15 = 0.54 (z wartosciami odstajacymi)"
   ]
  },
  {
   "cell_type": "code",
   "execution_count": 22,
   "id": "d421d4ae",
   "metadata": {},
   "outputs": [
    {
     "data": {
      "image/png": "[encoded data removed]",
      "text/plain": [
       "<Figure size 640x480 with 1 Axes>"
      ]
     },
     "metadata": {},
     "output_type": "display_data"
    }
   ],
   "source": [
    "plt.plot(range(epochs), losses)#shows plot of the presented system\n",
    "plt.ylabel('Cross Entropy Loss')\n",
    "plt.xlabel('epoch')\n",
    "plt.show()\n"
   ]
  },
  {
   "cell_type": "code",
   "execution_count": 23,
   "id": "c78639ad",
   "metadata": {},
   "outputs": [
    {
     "name": "stdout",
     "output_type": "stream",
     "text": [
      "0.0008666623253715605\n"
     ]
    }
   ],
   "source": [
    "sum_val=0.0\n",
    "n=len(y)\n",
    "for j in range(n):\n",
    "    sum_val=+(y[j].item() - pred_wart[j][2].item())**2\n",
    "mse=sum_val/n\n",
    "rmse=math.sqrt(mse) #Root Mean Squared Error\n",
    "print(rmse)\n"
   ]
  },
  {
   "attachments": {},
   "cell_type": "markdown",
   "id": "b4197f1c",
   "metadata": {},
   "source": [
    "R SQUARED"
   ]
  },
  {
   "cell_type": "code",
   "execution_count": 24,
   "id": "35c68867",
   "metadata": {},
   "outputs": [
    {
     "name": "stdout",
     "output_type": "stream",
     "text": [
      "0.5957533337717232\n"
     ]
    }
   ],
   "source": [
    "model=LinearRegression()\n",
    "model.fit(x,y)\n",
    "r_sq=model.score(x,y)\n",
    "print(r_sq)"
   ]
  },
  {
   "attachments": {},
   "cell_type": "markdown",
   "id": "c7d9ad28",
   "metadata": {},
   "source": [
    "Linear Reggression  confusion matrix"
   ]
  },
  {
   "cell_type": "code",
   "execution_count": 25,
   "id": "7933f436",
   "metadata": {},
   "outputs": [
    {
     "data": {
      "text/plain": [
       "[(9.82, 10.3], (10.58, 10.61], (10.78, 10.81], (10.81, 10.85], (10.85, 10.91], ..., (10.38, 10.45], (10.3, 10.38], (10.3, 10.38], (10.3, 10.38], (9.82, 10.3]]\n",
       "Length: 41851\n",
       "Categories (17, interval[float64, right]): [(9.82, 10.3] < (10.3, 10.38] < (10.38, 10.45] < (10.45, 10.5] ... (10.81, 10.85] < (10.85, 10.91] < (10.91, 10.98] < (10.98, 11.5]]"
      ]
     },
     "execution_count": 25,
     "metadata": {},
     "output_type": "execute_result"
    }
   ],
   "source": [
    "pd.qcut(predyk,q=17,precision=0)"
   ]
  },
  {
   "cell_type": "code",
   "execution_count": 26,
   "id": "26ead992",
   "metadata": {},
   "outputs": [
    {
     "ename": "NameError",
     "evalue": "name 'y_pred_binned' is not defined",
     "output_type": "error",
     "traceback": [
      "\u001b[1;31m---------------------------------------------------------------------------\u001b[0m",
      "\u001b[1;31mNameError\u001b[0m                                 Traceback (most recent call last)",
      "Cell \u001b[1;32mIn[26], line 1\u001b[0m\n\u001b[1;32m----> 1\u001b[0m y_pred_binned\n",
      "\u001b[1;31mNameError\u001b[0m: name 'y_pred_binned' is not defined"
     ]
    }
   ],
   "source": [
    "y_pred_binned"
   ]
  },
  {
   "cell_type": "code",
   "execution_count": null,
   "id": "1226dd1e",
   "metadata": {},
   "outputs": [
    {
     "ename": "IndexError",
     "evalue": "only integers, slices (`:`), ellipsis (`...`), numpy.newaxis (`None`) and integer or boolean arrays are valid indices",
     "output_type": "error",
     "traceback": [
      "\u001b[1;31m---------------------------------------------------------------------------\u001b[0m",
      "\u001b[1;31mIndexError\u001b[0m                                Traceback (most recent call last)",
      "Cell \u001b[1;32mIn[393], line 2\u001b[0m\n\u001b[0;32m      1\u001b[0m binned\u001b[39m=\u001b[39m[]\n\u001b[1;32m----> 2\u001b[0m y_true_binned[\u001b[39m'\u001b[39;49m\u001b[39mwart\u001b[39;49m\u001b[39m'\u001b[39;49m]\u001b[39m=\u001b[39mpd\u001b[39m.\u001b[39mcut(wart,bins\u001b[39m=\u001b[39m[\u001b[39m9.50\u001b[39m,\u001b[39m10.0\u001b[39m, \u001b[39m10.50\u001b[39m, \u001b[39m11.0\u001b[39m, \u001b[39m11.50\u001b[39m])\n\u001b[0;32m      3\u001b[0m y_pred_binned[\u001b[39m'\u001b[39m\u001b[39mpredyk\u001b[39m\u001b[39m'\u001b[39m]\u001b[39m=\u001b[39mpd\u001b[39m.\u001b[39mcut(predyk,bins\u001b[39m=\u001b[39m[\u001b[39m9.50\u001b[39m,\u001b[39m10.0\u001b[39m, \u001b[39m10.50\u001b[39m, \u001b[39m11.0\u001b[39m, \u001b[39m11.50\u001b[39m])\n\u001b[0;32m      4\u001b[0m cm \u001b[39m=\u001b[39m confusion_matrix(y_true\u001b[39m=\u001b[39my_true_binned\u001b[39m.\u001b[39mwart, y_pred\u001b[39m=\u001b[39my_pred_binned\u001b[39m.\u001b[39mpredyk)\n",
      "File \u001b[1;32mc:\\Users\\marci\\.julia\\conda\\3\\lib\\site-packages\\pandas\\core\\arrays\\_mixins.py:267\u001b[0m, in \u001b[0;36mNDArrayBackedExtensionArray.__setitem__\u001b[1;34m(self, key, value)\u001b[0m\n\u001b[0;32m    265\u001b[0m key \u001b[39m=\u001b[39m check_array_indexer(\u001b[39mself\u001b[39m, key)\n\u001b[0;32m    266\u001b[0m value \u001b[39m=\u001b[39m \u001b[39mself\u001b[39m\u001b[39m.\u001b[39m_validate_setitem_value(value)\n\u001b[1;32m--> 267\u001b[0m \u001b[39mself\u001b[39;49m\u001b[39m.\u001b[39;49m_ndarray[key] \u001b[39m=\u001b[39m value\n",
      "\u001b[1;31mIndexError\u001b[0m: only integers, slices (`:`), ellipsis (`...`), numpy.newaxis (`None`) and integer or boolean arrays are valid indices"
     ]
    }
   ],
   "source": [
    "binned=[]\n",
    "y_true_binned=pd.cut(wart,bins=[9.50,10.0, 10.50, 11.0, 11.50])\n",
    "y_pred_binned=pd.cut(predyk,bins=[9.50,10.0, 10.50, 11.0, 11.50])\n",
    "cm = confusion_matrix(y_true=y_true_binned.wart, y_pred=y_pred_binned.predyk)\n",
    "px.imshow(cm).show()"
   ]
  },
  {
   "cell_type": "code",
   "execution_count": null,
   "id": "401c13ca",
   "metadata": {},
   "outputs": [
    {
     "ename": "NameError",
     "evalue": "name 'wart' is not defined",
     "output_type": "error",
     "traceback": [
      "\u001b[1;31m---------------------------------------------------------------------------\u001b[0m",
      "\u001b[1;31mNameError\u001b[0m                                 Traceback (most recent call last)",
      "Cell \u001b[1;32mIn[2], line 1\u001b[0m\n\u001b[1;32m----> 1\u001b[0m wart\n",
      "\u001b[1;31mNameError\u001b[0m: name 'wart' is not defined"
     ]
    }
   ],
   "source": [
    "wart"
   ]
  },
  {
   "cell_type": "code",
   "execution_count": null,
   "id": "7ec372e0",
   "metadata": {},
   "outputs": [
    {
     "data": {
      "application/vnd.plotly.v1+json": {
       "config": {
        "plotlyServerURL": "https://plot.ly"
       },
       "data": [
        {
         "coloraxis": "coloraxis",
         "hovertemplate": "x: %{x}<br>y: %{y}<br>color: %{z}<extra></extra>",
         "name": "0",
         "type": "heatmap",
         "xaxis": "x",
         "yaxis": "y",
         "z": [
          [
           10,
           10,
           7,
           8
          ],
          [
           10,
           9,
           4,
           9
          ],
          [
           4,
           6,
           3,
           5
          ],
          [
           6,
           1,
           2,
           6
          ]
         ]
        }
       ],
       "layout": {
        "coloraxis": {
         "colorscale": [
          [
           0,
           "#0d0887"
          ],
          [
           0.1111111111111111,
           "#46039f"
          ],
          [
           0.2222222222222222,
           "#7201a8"
          ],
          [
           0.3333333333333333,
           "#9c179e"
          ],
          [
           0.4444444444444444,
           "#bd3786"
          ],
          [
           0.5555555555555556,
           "#d8576b"
          ],
          [
           0.6666666666666666,
           "#ed7953"
          ],
          [
           0.7777777777777778,
           "#fb9f3a"
          ],
          [
           0.8888888888888888,
           "#fdca26"
          ],
          [
           1,
           "#f0f921"
          ]
         ]
        },
        "margin": {
         "t": 60
        },
        "template": {
         "data": {
          "bar": [
           {
            "error_x": {
             "color": "#2a3f5f"
            },
            "error_y": {
             "color": "#2a3f5f"
            },
            "marker": {
             "line": {
              "color": "#E5ECF6",
              "width": 0.5
             },
             "pattern": {
              "fillmode": "overlay",
              "size": 10,
              "solidity": 0.2
             }
            },
            "type": "bar"
           }
          ],
          "barpolar": [
           {
            "marker": {
             "line": {
              "color": "#E5ECF6",
              "width": 0.5
             },
             "pattern": {
              "fillmode": "overlay",
              "size": 10,
              "solidity": 0.2
             }
            },
            "type": "barpolar"
           }
          ],
          "carpet": [
           {
            "aaxis": {
             "endlinecolor": "#2a3f5f",
             "gridcolor": "white",
             "linecolor": "white",
             "minorgridcolor": "white",
             "startlinecolor": "#2a3f5f"
            },
            "baxis": {
             "endlinecolor": "#2a3f5f",
             "gridcolor": "white",
             "linecolor": "white",
             "minorgridcolor": "white",
             "startlinecolor": "#2a3f5f"
            },
            "type": "carpet"
           }
          ],
          "choropleth": [
           {
            "colorbar": {
             "outlinewidth": 0,
             "ticks": ""
            },
            "type": "choropleth"
           }
          ],
          "contour": [
           {
            "colorbar": {
             "outlinewidth": 0,
             "ticks": ""
            },
            "colorscale": [
             [
              0,
              "#0d0887"
             ],
             [
              0.1111111111111111,
              "#46039f"
             ],
             [
              0.2222222222222222,
              "#7201a8"
             ],
             [
              0.3333333333333333,
              "#9c179e"
             ],
             [
              0.4444444444444444,
              "#bd3786"
             ],
             [
              0.5555555555555556,
              "#d8576b"
             ],
             [
              0.6666666666666666,
              "#ed7953"
             ],
             [
              0.7777777777777778,
              "#fb9f3a"
             ],
             [
              0.8888888888888888,
              "#fdca26"
             ],
             [
              1,
              "#f0f921"
             ]
            ],
            "type": "contour"
           }
          ],
          "contourcarpet": [
           {
            "colorbar": {
             "outlinewidth": 0,
             "ticks": ""
            },
            "type": "contourcarpet"
           }
          ],
          "heatmap": [
           {
            "colorbar": {
             "outlinewidth": 0,
             "ticks": ""
            },
            "colorscale": [
             [
              0,
              "#0d0887"
             ],
             [
              0.1111111111111111,
              "#46039f"
             ],
             [
              0.2222222222222222,
              "#7201a8"
             ],
             [
              0.3333333333333333,
              "#9c179e"
             ],
             [
              0.4444444444444444,
              "#bd3786"
             ],
             [
              0.5555555555555556,
              "#d8576b"
             ],
             [
              0.6666666666666666,
              "#ed7953"
             ],
             [
              0.7777777777777778,
              "#fb9f3a"
             ],
             [
              0.8888888888888888,
              "#fdca26"
             ],
             [
              1,
              "#f0f921"
             ]
            ],
            "type": "heatmap"
           }
          ],
          "heatmapgl": [
           {
            "colorbar": {
             "outlinewidth": 0,
             "ticks": ""
            },
            "colorscale": [
             [
              0,
              "#0d0887"
             ],
             [
              0.1111111111111111,
              "#46039f"
             ],
             [
              0.2222222222222222,
              "#7201a8"
             ],
             [
              0.3333333333333333,
              "#9c179e"
             ],
             [
              0.4444444444444444,
              "#bd3786"
             ],
             [
              0.5555555555555556,
              "#d8576b"
             ],
             [
              0.6666666666666666,
              "#ed7953"
             ],
             [
              0.7777777777777778,
              "#fb9f3a"
             ],
             [
              0.8888888888888888,
              "#fdca26"
             ],
             [
              1,
              "#f0f921"
             ]
            ],
            "type": "heatmapgl"
           }
          ],
          "histogram": [
           {
            "marker": {
             "pattern": {
              "fillmode": "overlay",
              "size": 10,
              "solidity": 0.2
             }
            },
            "type": "histogram"
           }
          ],
          "histogram2d": [
           {
            "colorbar": {
             "outlinewidth": 0,
             "ticks": ""
            },
            "colorscale": [
             [
              0,
              "#0d0887"
             ],
             [
              0.1111111111111111,
              "#46039f"
             ],
             [
              0.2222222222222222,
              "#7201a8"
             ],
             [
              0.3333333333333333,
              "#9c179e"
             ],
             [
              0.4444444444444444,
              "#bd3786"
             ],
             [
              0.5555555555555556,
              "#d8576b"
             ],
             [
              0.6666666666666666,
              "#ed7953"
             ],
             [
              0.7777777777777778,
              "#fb9f3a"
             ],
             [
              0.8888888888888888,
              "#fdca26"
             ],
             [
              1,
              "#f0f921"
             ]
            ],
            "type": "histogram2d"
           }
          ],
          "histogram2dcontour": [
           {
            "colorbar": {
             "outlinewidth": 0,
             "ticks": ""
            },
            "colorscale": [
             [
              0,
              "#0d0887"
             ],
             [
              0.1111111111111111,
              "#46039f"
             ],
             [
              0.2222222222222222,
              "#7201a8"
             ],
             [
              0.3333333333333333,
              "#9c179e"
             ],
             [
              0.4444444444444444,
              "#bd3786"
             ],
             [
              0.5555555555555556,
              "#d8576b"
             ],
             [
              0.6666666666666666,
              "#ed7953"
             ],
             [
              0.7777777777777778,
              "#fb9f3a"
             ],
             [
              0.8888888888888888,
              "#fdca26"
             ],
             [
              1,
              "#f0f921"
             ]
            ],
            "type": "histogram2dcontour"
           }
          ],
          "mesh3d": [
           {
            "colorbar": {
             "outlinewidth": 0,
             "ticks": ""
            },
            "type": "mesh3d"
           }
          ],
          "parcoords": [
           {
            "line": {
             "colorbar": {
              "outlinewidth": 0,
              "ticks": ""
             }
            },
            "type": "parcoords"
           }
          ],
          "pie": [
           {
            "automargin": true,
            "type": "pie"
           }
          ],
          "scatter": [
           {
            "fillpattern": {
             "fillmode": "overlay",
             "size": 10,
             "solidity": 0.2
            },
            "type": "scatter"
           }
          ],
          "scatter3d": [
           {
            "line": {
             "colorbar": {
              "outlinewidth": 0,
              "ticks": ""
             }
            },
            "marker": {
             "colorbar": {
              "outlinewidth": 0,
              "ticks": ""
             }
            },
            "type": "scatter3d"
           }
          ],
          "scattercarpet": [
           {
            "marker": {
             "colorbar": {
              "outlinewidth": 0,
              "ticks": ""
             }
            },
            "type": "scattercarpet"
           }
          ],
          "scattergeo": [
           {
            "marker": {
             "colorbar": {
              "outlinewidth": 0,
              "ticks": ""
             }
            },
            "type": "scattergeo"
           }
          ],
          "scattergl": [
           {
            "marker": {
             "colorbar": {
              "outlinewidth": 0,
              "ticks": ""
             }
            },
            "type": "scattergl"
           }
          ],
          "scattermapbox": [
           {
            "marker": {
             "colorbar": {
              "outlinewidth": 0,
              "ticks": ""
             }
            },
            "type": "scattermapbox"
           }
          ],
          "scatterpolar": [
           {
            "marker": {
             "colorbar": {
              "outlinewidth": 0,
              "ticks": ""
             }
            },
            "type": "scatterpolar"
           }
          ],
          "scatterpolargl": [
           {
            "marker": {
             "colorbar": {
              "outlinewidth": 0,
              "ticks": ""
             }
            },
            "type": "scatterpolargl"
           }
          ],
          "scatterternary": [
           {
            "marker": {
             "colorbar": {
              "outlinewidth": 0,
              "ticks": ""
             }
            },
            "type": "scatterternary"
           }
          ],
          "surface": [
           {
            "colorbar": {
             "outlinewidth": 0,
             "ticks": ""
            },
            "colorscale": [
             [
              0,
              "#0d0887"
             ],
             [
              0.1111111111111111,
              "#46039f"
             ],
             [
              0.2222222222222222,
              "#7201a8"
             ],
             [
              0.3333333333333333,
              "#9c179e"
             ],
             [
              0.4444444444444444,
              "#bd3786"
             ],
             [
              0.5555555555555556,
              "#d8576b"
             ],
             [
              0.6666666666666666,
              "#ed7953"
             ],
             [
              0.7777777777777778,
              "#fb9f3a"
             ],
             [
              0.8888888888888888,
              "#fdca26"
             ],
             [
              1,
              "#f0f921"
             ]
            ],
            "type": "surface"
           }
          ],
          "table": [
           {
            "cells": {
             "fill": {
              "color": "#EBF0F8"
             },
             "line": {
              "color": "white"
             }
            },
            "header": {
             "fill": {
              "color": "#C8D4E3"
             },
             "line": {
              "color": "white"
             }
            },
            "type": "table"
           }
          ]
         },
         "layout": {
          "annotationdefaults": {
           "arrowcolor": "#2a3f5f",
           "arrowhead": 0,
           "arrowwidth": 1
          },
          "autotypenumbers": "strict",
          "coloraxis": {
           "colorbar": {
            "outlinewidth": 0,
            "ticks": ""
           }
          },
          "colorscale": {
           "diverging": [
            [
             0,
             "#8e0152"
            ],
            [
             0.1,
             "#c51b7d"
            ],
            [
             0.2,
             "#de77ae"
            ],
            [
             0.3,
             "#f1b6da"
            ],
            [
             0.4,
             "#fde0ef"
            ],
            [
             0.5,
             "#f7f7f7"
            ],
            [
             0.6,
             "#e6f5d0"
            ],
            [
             0.7,
             "#b8e186"
            ],
            [
             0.8,
             "#7fbc41"
            ],
            [
             0.9,
             "#4d9221"
            ],
            [
             1,
             "#276419"
            ]
           ],
           "sequential": [
            [
             0,
             "#0d0887"
            ],
            [
             0.1111111111111111,
             "#46039f"
            ],
            [
             0.2222222222222222,
             "#7201a8"
            ],
            [
             0.3333333333333333,
             "#9c179e"
            ],
            [
             0.4444444444444444,
             "#bd3786"
            ],
            [
             0.5555555555555556,
             "#d8576b"
            ],
            [
             0.6666666666666666,
             "#ed7953"
            ],
            [
             0.7777777777777778,
             "#fb9f3a"
            ],
            [
             0.8888888888888888,
             "#fdca26"
            ],
            [
             1,
             "#f0f921"
            ]
           ],
           "sequentialminus": [
            [
             0,
             "#0d0887"
            ],
            [
             0.1111111111111111,
             "#46039f"
            ],
            [
             0.2222222222222222,
             "#7201a8"
            ],
            [
             0.3333333333333333,
             "#9c179e"
            ],
            [
             0.4444444444444444,
             "#bd3786"
            ],
            [
             0.5555555555555556,
             "#d8576b"
            ],
            [
             0.6666666666666666,
             "#ed7953"
            ],
            [
             0.7777777777777778,
             "#fb9f3a"
            ],
            [
             0.8888888888888888,
             "#fdca26"
            ],
            [
             1,
             "#f0f921"
            ]
           ]
          },
          "colorway": [
           "#636efa",
           "#EF553B",
           "#00cc96",
           "#ab63fa",
           "#FFA15A",
           "#19d3f3",
           "#FF6692",
           "#B6E880",
           "#FF97FF",
           "#FECB52"
          ],
          "font": {
           "color": "#2a3f5f"
          },
          "geo": {
           "bgcolor": "white",
           "lakecolor": "white",
           "landcolor": "#E5ECF6",
           "showlakes": true,
           "showland": true,
           "subunitcolor": "white"
          },
          "hoverlabel": {
           "align": "left"
          },
          "hovermode": "closest",
          "mapbox": {
           "style": "light"
          },
          "paper_bgcolor": "white",
          "plot_bgcolor": "#E5ECF6",
          "polar": {
           "angularaxis": {
            "gridcolor": "white",
            "linecolor": "white",
            "ticks": ""
           },
           "bgcolor": "#E5ECF6",
           "radialaxis": {
            "gridcolor": "white",
            "linecolor": "white",
            "ticks": ""
           }
          },
          "scene": {
           "xaxis": {
            "backgroundcolor": "#E5ECF6",
            "gridcolor": "white",
            "gridwidth": 2,
            "linecolor": "white",
            "showbackground": true,
            "ticks": "",
            "zerolinecolor": "white"
           },
           "yaxis": {
            "backgroundcolor": "#E5ECF6",
            "gridcolor": "white",
            "gridwidth": 2,
            "linecolor": "white",
            "showbackground": true,
            "ticks": "",
            "zerolinecolor": "white"
           },
           "zaxis": {
            "backgroundcolor": "#E5ECF6",
            "gridcolor": "white",
            "gridwidth": 2,
            "linecolor": "white",
            "showbackground": true,
            "ticks": "",
            "zerolinecolor": "white"
           }
          },
          "shapedefaults": {
           "line": {
            "color": "#2a3f5f"
           }
          },
          "ternary": {
           "aaxis": {
            "gridcolor": "white",
            "linecolor": "white",
            "ticks": ""
           },
           "baxis": {
            "gridcolor": "white",
            "linecolor": "white",
            "ticks": ""
           },
           "bgcolor": "#E5ECF6",
           "caxis": {
            "gridcolor": "white",
            "linecolor": "white",
            "ticks": ""
           }
          },
          "title": {
           "x": 0.05
          },
          "xaxis": {
           "automargin": true,
           "gridcolor": "white",
           "linecolor": "white",
           "ticks": "",
           "title": {
            "standoff": 15
           },
           "zerolinecolor": "white",
           "zerolinewidth": 2
          },
          "yaxis": {
           "automargin": true,
           "gridcolor": "white",
           "linecolor": "white",
           "ticks": "",
           "title": {
            "standoff": 15
           },
           "zerolinecolor": "white",
           "zerolinewidth": 2
          }
         }
        },
        "xaxis": {
         "anchor": "y",
         "constrain": "domain",
         "domain": [
          0,
          1
         ],
         "scaleanchor": "y"
        },
        "yaxis": {
         "anchor": "x",
         "autorange": "reversed",
         "constrain": "domain",
         "domain": [
          0,
          1
         ]
        }
       }
      }
     },
     "metadata": {},
     "output_type": "display_data"
    }
   ],
   "source": [
    "\n",
    "\n",
    "df = pd.DataFrame(np.random.random((100,7)), columns = [j for j in range(6)] + [\"true\"])\n",
    "\n",
    "df_binned = pd.DataFrame()\n",
    "for col in df.columns:\n",
    "    df_binned[col] = pd.cut(df[col], bins=[0,0.25, 0.5, 0.75, 1.0], labels=list(\"lmhs\"))\n",
    "\n",
    "# generate confusion matrix \n",
    "cm = confusion_matrix(y_true=df_binned.wynik, y_pred=df_binned[0])\n",
    "\n",
    "# plot\n",
    "px.imshow(cm).show()"
   ]
  },
  {
   "cell_type": "code",
   "execution_count": null,
   "id": "138a1b0e",
   "metadata": {},
   "outputs": [
    {
     "data": {
      "text/plain": [
       "0     l\n",
       "1     m\n",
       "2     h\n",
       "3     s\n",
       "4     h\n",
       "     ..\n",
       "95    h\n",
       "96    s\n",
       "97    l\n",
       "98    h\n",
       "99    m\n",
       "Name: true, Length: 100, dtype: category\n",
       "Categories (4, object): ['l' < 'm' < 'h' < 's']"
      ]
     },
     "execution_count": 372,
     "metadata": {},
     "output_type": "execute_result"
    }
   ],
   "source": [
    "df_binned.true"
   ]
  },
  {
   "cell_type": "code",
   "execution_count": null,
   "id": "dd018a9f",
   "metadata": {},
   "outputs": [
    {
     "data": {
      "text/plain": [
       "10.8100004196167"
      ]
     },
     "execution_count": 358,
     "metadata": {},
     "output_type": "execute_result"
    }
   ],
   "source": [
    "wart[18]"
   ]
  },
  {
   "cell_type": "code",
   "execution_count": null,
   "id": "3df93080",
   "metadata": {},
   "outputs": [
    {
     "data": {
      "text/plain": [
       "<matplotlib.legend.Legend at 0x232084447c0>"
      ]
     },
     "execution_count": 394,
     "metadata": {},
     "output_type": "execute_result"
    },
    {
     "data": {
      "image/png": "[encoded data removed]",
      "text/plain": [
       "<Figure size 640x480 with 1 Axes>"
      ]
     },
     "metadata": {},
     "output_type": "display_data"
    }
   ],
   "source": [
    "plt.plot(wart, label='real results')\n",
    "plt.plot(predyk, label = 'predicted results')\n",
    "plt.xlabel('number oof result')\n",
    "plt.ylabel('time [s]')\n",
    "plt.legend(loc='upper right')"
   ]
  }
 ],
 "metadata": {
  "kernelspec": {
   "display_name": "base",
   "language": "python",
   "name": "python3"
  },
  "language_info": {
   "codemirror_mode": {
    "name": "ipython",
    "version": 3
   },
   "file_extension": ".py",
   "mimetype": "text/x-python",
   "name": "python",
   "nbconvert_exporter": "python",
   "pygments_lexer": "ipython3",
   "version": "3.9.13"
  },
  "vscode": {
   "interpreter": {
    "hash": "a67e4768a05e1b021c365d650a8f6b841075c56ca7261c4d4f12e99f0977a434"
   }
  }
 },
 "nbformat": 4,
 "nbformat_minor": 5
}
